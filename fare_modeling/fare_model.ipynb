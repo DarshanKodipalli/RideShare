{
 "cells": [
  {
   "cell_type": "markdown",
   "metadata": {},
   "source": [
    "# ML Model to predit rideshare trip fare"
   ]
  },
  {
   "cell_type": "code",
   "execution_count": 13,
   "metadata": {},
   "outputs": [],
   "source": [
    "import pandas as pd\n",
    "import matplotlib.pyplot as plt\n",
    "import seaborn as sns\n",
    "%matplotlib inline\n",
    "sns.set_style(\"whitegrid\")"
   ]
  },
  {
   "cell_type": "code",
   "execution_count": 14,
   "metadata": {},
   "outputs": [],
   "source": [
    "from sklearn.model_selection import train_test_split\n",
    "from sklearn.linear_model import LinearRegression"
   ]
  },
  {
   "cell_type": "code",
   "execution_count": 15,
   "metadata": {},
   "outputs": [],
   "source": [
    "raw_df = pd.read_csv(\"trips_normalized.csv\")\n",
    "df = raw_df.copy()"
   ]
  },
  {
   "cell_type": "code",
   "execution_count": 16,
   "metadata": {},
   "outputs": [],
   "source": [
    "df.IS_POOLED = df.IS_POOLED.apply(lambda x: 1 if x else 0)"
   ]
  },
  {
   "cell_type": "code",
   "execution_count": 21,
   "metadata": {},
   "outputs": [
    {
     "data": {
      "text/html": [
       "<div>\n",
       "<style scoped>\n",
       "    .dataframe tbody tr th:only-of-type {\n",
       "        vertical-align: middle;\n",
       "    }\n",
       "\n",
       "    .dataframe tbody tr th {\n",
       "        vertical-align: top;\n",
       "    }\n",
       "\n",
       "    .dataframe thead th {\n",
       "        text-align: right;\n",
       "    }\n",
       "</style>\n",
       "<table border=\"1\" class=\"dataframe\">\n",
       "  <thead>\n",
       "    <tr style=\"text-align: right;\">\n",
       "      <th></th>\n",
       "      <th>DURATION</th>\n",
       "      <th>DISTANCE</th>\n",
       "      <th>FARE</th>\n",
       "      <th>IS_POOLED</th>\n",
       "      <th>TRIPS_POOLED</th>\n",
       "    </tr>\n",
       "  </thead>\n",
       "  <tbody>\n",
       "    <tr>\n",
       "      <th>count</th>\n",
       "      <td>9.765982e+06</td>\n",
       "      <td>9.765982e+06</td>\n",
       "      <td>9.765982e+06</td>\n",
       "      <td>9.765982e+06</td>\n",
       "      <td>9.765982e+06</td>\n",
       "    </tr>\n",
       "    <tr>\n",
       "      <th>mean</th>\n",
       "      <td>1.800637e+03</td>\n",
       "      <td>1.218373e+01</td>\n",
       "      <td>2.520575e+01</td>\n",
       "      <td>3.637159e-01</td>\n",
       "      <td>1.561116e+00</td>\n",
       "    </tr>\n",
       "    <tr>\n",
       "      <th>std</th>\n",
       "      <td>9.161782e+02</td>\n",
       "      <td>8.506358e+00</td>\n",
       "      <td>1.479280e+01</td>\n",
       "      <td>4.810683e-01</td>\n",
       "      <td>1.109100e+00</td>\n",
       "    </tr>\n",
       "    <tr>\n",
       "      <th>min</th>\n",
       "      <td>0.000000e+00</td>\n",
       "      <td>0.000000e+00</td>\n",
       "      <td>0.000000e+00</td>\n",
       "      <td>0.000000e+00</td>\n",
       "      <td>1.000000e+00</td>\n",
       "    </tr>\n",
       "    <tr>\n",
       "      <th>25%</th>\n",
       "      <td>1.119000e+03</td>\n",
       "      <td>5.200000e+00</td>\n",
       "      <td>1.273000e+01</td>\n",
       "      <td>0.000000e+00</td>\n",
       "      <td>1.000000e+00</td>\n",
       "    </tr>\n",
       "    <tr>\n",
       "      <th>50%</th>\n",
       "      <td>1.691000e+03</td>\n",
       "      <td>1.080000e+01</td>\n",
       "      <td>2.250000e+01</td>\n",
       "      <td>0.000000e+00</td>\n",
       "      <td>1.000000e+00</td>\n",
       "    </tr>\n",
       "    <tr>\n",
       "      <th>75%</th>\n",
       "      <td>2.361000e+03</td>\n",
       "      <td>1.750000e+01</td>\n",
       "      <td>3.505000e+01</td>\n",
       "      <td>1.000000e+00</td>\n",
       "      <td>2.000000e+00</td>\n",
       "    </tr>\n",
       "    <tr>\n",
       "      <th>max</th>\n",
       "      <td>4.962000e+03</td>\n",
       "      <td>4.290000e+01</td>\n",
       "      <td>7.914000e+01</td>\n",
       "      <td>1.000000e+00</td>\n",
       "      <td>2.400000e+01</td>\n",
       "    </tr>\n",
       "  </tbody>\n",
       "</table>\n",
       "</div>"
      ],
      "text/plain": [
       "           DURATION      DISTANCE          FARE     IS_POOLED  TRIPS_POOLED\n",
       "count  9.765982e+06  9.765982e+06  9.765982e+06  9.765982e+06  9.765982e+06\n",
       "mean   1.800637e+03  1.218373e+01  2.520575e+01  3.637159e-01  1.561116e+00\n",
       "std    9.161782e+02  8.506358e+00  1.479280e+01  4.810683e-01  1.109100e+00\n",
       "min    0.000000e+00  0.000000e+00  0.000000e+00  0.000000e+00  1.000000e+00\n",
       "25%    1.119000e+03  5.200000e+00  1.273000e+01  0.000000e+00  1.000000e+00\n",
       "50%    1.691000e+03  1.080000e+01  2.250000e+01  0.000000e+00  1.000000e+00\n",
       "75%    2.361000e+03  1.750000e+01  3.505000e+01  1.000000e+00  2.000000e+00\n",
       "max    4.962000e+03  4.290000e+01  7.914000e+01  1.000000e+00  2.400000e+01"
      ]
     },
     "execution_count": 21,
     "metadata": {},
     "output_type": "execute_result"
    }
   ],
   "source": [
    "df.describe()"
   ]
  },
  {
   "cell_type": "code",
   "execution_count": 36,
   "metadata": {},
   "outputs": [],
   "source": [
    "data = df[[\"DISTANCE\", \"DURATION\", \"IS_POOLED\", \"TRIPS_POOLED\"]]\n",
    "target = df.FARE"
   ]
  },
  {
   "cell_type": "code",
   "execution_count": 37,
   "metadata": {},
   "outputs": [],
   "source": [
    "x_train, x_test, y_train, y_test = train_test_split(data, target, test_size=0.2, random_state=7)"
   ]
  },
  {
   "cell_type": "code",
   "execution_count": 61,
   "metadata": {},
   "outputs": [],
   "source": [
    "lrm = LinearRegression(normalize=True)"
   ]
  },
  {
   "cell_type": "code",
   "execution_count": 62,
   "metadata": {},
   "outputs": [
    {
     "data": {
      "text/plain": [
       "LinearRegression(copy_X=True, fit_intercept=True, n_jobs=None, normalize=True)"
      ]
     },
     "execution_count": 62,
     "metadata": {},
     "output_type": "execute_result"
    }
   ],
   "source": [
    "lrm.fit(x_train, y_train)"
   ]
  },
  {
   "cell_type": "code",
   "execution_count": 63,
   "metadata": {},
   "outputs": [
    {
     "data": {
      "text/plain": [
       "0.7603450756555556"
      ]
     },
     "execution_count": 63,
     "metadata": {},
     "output_type": "execute_result"
    }
   ],
   "source": [
    "lrm.score(x_test, y_test)"
   ]
  },
  {
   "cell_type": "code",
   "execution_count": 66,
   "metadata": {},
   "outputs": [
    {
     "data": {
      "text/plain": [
       "array([6.31321858])"
      ]
     },
     "execution_count": 66,
     "metadata": {},
     "output_type": "execute_result"
    }
   ],
   "source": [
    "lrm.predict([[3.2, 801.6, 1, 2]])"
   ]
  },
  {
   "cell_type": "code",
   "execution_count": 67,
   "metadata": {},
   "outputs": [],
   "source": [
    "sub = df[(df.DISTANCE == 3.2) & (df.DURATION > 800) & (df.DURATION < 810) & (df.IS_POOLED == 1) & (df.TRIPS_POOLED == 2)]"
   ]
  },
  {
   "cell_type": "code",
   "execution_count": 68,
   "metadata": {},
   "outputs": [
    {
     "data": {
      "text/plain": [
       "8.956119402985074"
      ]
     },
     "execution_count": 68,
     "metadata": {},
     "output_type": "execute_result"
    }
   ],
   "source": [
    "sub.FARE.mean()"
   ]
  },
  {
   "cell_type": "code",
   "execution_count": 59,
   "metadata": {},
   "outputs": [
    {
     "data": {
      "text/html": [
       "<div>\n",
       "<style scoped>\n",
       "    .dataframe tbody tr th:only-of-type {\n",
       "        vertical-align: middle;\n",
       "    }\n",
       "\n",
       "    .dataframe tbody tr th {\n",
       "        vertical-align: top;\n",
       "    }\n",
       "\n",
       "    .dataframe thead th {\n",
       "        text-align: right;\n",
       "    }\n",
       "</style>\n",
       "<table border=\"1\" class=\"dataframe\">\n",
       "  <thead>\n",
       "    <tr style=\"text-align: right;\">\n",
       "      <th></th>\n",
       "      <th>DURATION</th>\n",
       "      <th>DISTANCE</th>\n",
       "      <th>FARE</th>\n",
       "      <th>IS_POOLED</th>\n",
       "      <th>TRIPS_POOLED</th>\n",
       "    </tr>\n",
       "  </thead>\n",
       "  <tbody>\n",
       "    <tr>\n",
       "      <th>0</th>\n",
       "      <td>1289.0</td>\n",
       "      <td>3.3</td>\n",
       "      <td>7.50</td>\n",
       "      <td>1</td>\n",
       "      <td>4</td>\n",
       "    </tr>\n",
       "    <tr>\n",
       "      <th>1</th>\n",
       "      <td>3512.0</td>\n",
       "      <td>19.1</td>\n",
       "      <td>40.15</td>\n",
       "      <td>0</td>\n",
       "      <td>1</td>\n",
       "    </tr>\n",
       "    <tr>\n",
       "      <th>2</th>\n",
       "      <td>1013.0</td>\n",
       "      <td>2.3</td>\n",
       "      <td>5.05</td>\n",
       "      <td>1</td>\n",
       "      <td>2</td>\n",
       "    </tr>\n",
       "    <tr>\n",
       "      <th>3</th>\n",
       "      <td>999.0</td>\n",
       "      <td>3.3</td>\n",
       "      <td>15.35</td>\n",
       "      <td>0</td>\n",
       "      <td>1</td>\n",
       "    </tr>\n",
       "    <tr>\n",
       "      <th>4</th>\n",
       "      <td>2072.0</td>\n",
       "      <td>7.4</td>\n",
       "      <td>7.50</td>\n",
       "      <td>1</td>\n",
       "      <td>4</td>\n",
       "    </tr>\n",
       "    <tr>\n",
       "      <th>...</th>\n",
       "      <td>...</td>\n",
       "      <td>...</td>\n",
       "      <td>...</td>\n",
       "      <td>...</td>\n",
       "      <td>...</td>\n",
       "    </tr>\n",
       "    <tr>\n",
       "      <th>9765977</th>\n",
       "      <td>1340.0</td>\n",
       "      <td>12.1</td>\n",
       "      <td>20.05</td>\n",
       "      <td>0</td>\n",
       "      <td>1</td>\n",
       "    </tr>\n",
       "    <tr>\n",
       "      <th>9765978</th>\n",
       "      <td>3288.0</td>\n",
       "      <td>27.0</td>\n",
       "      <td>62.78</td>\n",
       "      <td>0</td>\n",
       "      <td>1</td>\n",
       "    </tr>\n",
       "    <tr>\n",
       "      <th>9765979</th>\n",
       "      <td>1414.0</td>\n",
       "      <td>16.7</td>\n",
       "      <td>61.80</td>\n",
       "      <td>0</td>\n",
       "      <td>1</td>\n",
       "    </tr>\n",
       "    <tr>\n",
       "      <th>9765980</th>\n",
       "      <td>2354.0</td>\n",
       "      <td>7.6</td>\n",
       "      <td>12.55</td>\n",
       "      <td>1</td>\n",
       "      <td>5</td>\n",
       "    </tr>\n",
       "    <tr>\n",
       "      <th>9765981</th>\n",
       "      <td>2373.0</td>\n",
       "      <td>30.3</td>\n",
       "      <td>50.29</td>\n",
       "      <td>0</td>\n",
       "      <td>1</td>\n",
       "    </tr>\n",
       "  </tbody>\n",
       "</table>\n",
       "<p>9765982 rows × 5 columns</p>\n",
       "</div>"
      ],
      "text/plain": [
       "         DURATION  DISTANCE   FARE  IS_POOLED  TRIPS_POOLED\n",
       "0          1289.0       3.3   7.50          1             4\n",
       "1          3512.0      19.1  40.15          0             1\n",
       "2          1013.0       2.3   5.05          1             2\n",
       "3           999.0       3.3  15.35          0             1\n",
       "4          2072.0       7.4   7.50          1             4\n",
       "...           ...       ...    ...        ...           ...\n",
       "9765977    1340.0      12.1  20.05          0             1\n",
       "9765978    3288.0      27.0  62.78          0             1\n",
       "9765979    1414.0      16.7  61.80          0             1\n",
       "9765980    2354.0       7.6  12.55          1             5\n",
       "9765981    2373.0      30.3  50.29          0             1\n",
       "\n",
       "[9765982 rows x 5 columns]"
      ]
     },
     "execution_count": 59,
     "metadata": {},
     "output_type": "execute_result"
    }
   ],
   "source": [
    "df"
   ]
  },
  {
   "cell_type": "code",
   "execution_count": null,
   "metadata": {},
   "outputs": [],
   "source": []
  }
 ],
 "metadata": {
  "kernelspec": {
   "display_name": "Python 3",
   "language": "python",
   "name": "python3"
  },
  "language_info": {
   "codemirror_mode": {
    "name": "ipython",
    "version": 3
   },
   "file_extension": ".py",
   "mimetype": "text/x-python",
   "name": "python",
   "nbconvert_exporter": "python",
   "pygments_lexer": "ipython3",
   "version": "3.7.5"
  }
 },
 "nbformat": 4,
 "nbformat_minor": 2
}
