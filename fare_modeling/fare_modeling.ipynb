{
 "cells": [
  {
   "cell_type": "markdown",
   "metadata": {},
   "source": [
    "# ML Model to predit rideshare trip fare"
   ]
  },
  {
   "cell_type": "code",
   "execution_count": 1,
   "metadata": {},
   "outputs": [],
   "source": [
    "import numpy as np\n",
    "import pandas as pd\n",
    "import matplotlib.pyplot as plt\n",
    "import seaborn as sns\n",
    "%matplotlib inline\n",
    "sns.set_style(\"whitegrid\")\n",
    "# white, dark, whitegrid, darkgrid, ticks"
   ]
  },
  {
   "cell_type": "code",
   "execution_count": 2,
   "metadata": {},
   "outputs": [],
   "source": [
    "from sklearn.linear_model import LinearRegression\n",
    "from sklearn.ensemble import GradientBoostingRegressor, RandomForestRegressor\n",
    "from sklearn.tree import DecisionTreeRegressor\n",
    "from sklearn.neighbors import KNeighborsRegressor\n",
    "from sklearn.svm import LinearSVR\n",
    "from sklearn.model_selection import cross_val_score, KFold\n",
    "from sklearn.pipeline import Pipeline\n",
    "from sklearn.preprocessing import RobustScaler\n",
    "from sklearn.model_selection import train_test_split, learning_curve\n",
    "from sklearn.metrics import f1_score, mean_absolute_error, mean_squared_error, r2_score, precision_score, recall_score\n",
    "from sklearn.model_selection import GridSearchCV"
   ]
  },
  {
   "cell_type": "markdown",
   "metadata": {},
   "source": [
    "# Loading Dataset"
   ]
  },
  {
   "cell_type": "code",
   "execution_count": 3,
   "metadata": {},
   "outputs": [
    {
     "data": {
      "text/html": [
       "<div>\n",
       "<style scoped>\n",
       "    .dataframe tbody tr th:only-of-type {\n",
       "        vertical-align: middle;\n",
       "    }\n",
       "\n",
       "    .dataframe tbody tr th {\n",
       "        vertical-align: top;\n",
       "    }\n",
       "\n",
       "    .dataframe thead th {\n",
       "        text-align: right;\n",
       "    }\n",
       "</style>\n",
       "<table border=\"1\" class=\"dataframe\">\n",
       "  <thead>\n",
       "    <tr style=\"text-align: right;\">\n",
       "      <th></th>\n",
       "      <th>DURATION</th>\n",
       "      <th>DISTANCE</th>\n",
       "      <th>FARE</th>\n",
       "      <th>IS_POOLED</th>\n",
       "      <th>TRIPS_POOLED</th>\n",
       "    </tr>\n",
       "  </thead>\n",
       "  <tbody>\n",
       "    <tr>\n",
       "      <th>0</th>\n",
       "      <td>1131.0</td>\n",
       "      <td>3.8</td>\n",
       "      <td>12.50</td>\n",
       "      <td>False</td>\n",
       "      <td>1</td>\n",
       "    </tr>\n",
       "    <tr>\n",
       "      <th>1</th>\n",
       "      <td>816.0</td>\n",
       "      <td>2.0</td>\n",
       "      <td>13.05</td>\n",
       "      <td>False</td>\n",
       "      <td>1</td>\n",
       "    </tr>\n",
       "    <tr>\n",
       "      <th>2</th>\n",
       "      <td>755.0</td>\n",
       "      <td>1.5</td>\n",
       "      <td>10.05</td>\n",
       "      <td>False</td>\n",
       "      <td>1</td>\n",
       "    </tr>\n",
       "    <tr>\n",
       "      <th>3</th>\n",
       "      <td>231.0</td>\n",
       "      <td>1.1</td>\n",
       "      <td>7.55</td>\n",
       "      <td>False</td>\n",
       "      <td>1</td>\n",
       "    </tr>\n",
       "    <tr>\n",
       "      <th>4</th>\n",
       "      <td>489.0</td>\n",
       "      <td>1.4</td>\n",
       "      <td>8.55</td>\n",
       "      <td>False</td>\n",
       "      <td>1</td>\n",
       "    </tr>\n",
       "    <tr>\n",
       "      <th>...</th>\n",
       "      <td>...</td>\n",
       "      <td>...</td>\n",
       "      <td>...</td>\n",
       "      <td>...</td>\n",
       "      <td>...</td>\n",
       "    </tr>\n",
       "    <tr>\n",
       "      <th>962700</th>\n",
       "      <td>360.0</td>\n",
       "      <td>0.9</td>\n",
       "      <td>5.72</td>\n",
       "      <td>False</td>\n",
       "      <td>1</td>\n",
       "    </tr>\n",
       "    <tr>\n",
       "      <th>962701</th>\n",
       "      <td>426.0</td>\n",
       "      <td>3.4</td>\n",
       "      <td>12.05</td>\n",
       "      <td>False</td>\n",
       "      <td>1</td>\n",
       "    </tr>\n",
       "    <tr>\n",
       "      <th>962702</th>\n",
       "      <td>782.0</td>\n",
       "      <td>2.7</td>\n",
       "      <td>10.05</td>\n",
       "      <td>False</td>\n",
       "      <td>1</td>\n",
       "    </tr>\n",
       "    <tr>\n",
       "      <th>962703</th>\n",
       "      <td>451.0</td>\n",
       "      <td>1.2</td>\n",
       "      <td>7.55</td>\n",
       "      <td>False</td>\n",
       "      <td>1</td>\n",
       "    </tr>\n",
       "    <tr>\n",
       "      <th>962704</th>\n",
       "      <td>1315.0</td>\n",
       "      <td>7.9</td>\n",
       "      <td>17.55</td>\n",
       "      <td>False</td>\n",
       "      <td>1</td>\n",
       "    </tr>\n",
       "  </tbody>\n",
       "</table>\n",
       "<p>962705 rows × 5 columns</p>\n",
       "</div>"
      ],
      "text/plain": [
       "        DURATION  DISTANCE   FARE  IS_POOLED  TRIPS_POOLED\n",
       "0         1131.0       3.8  12.50      False             1\n",
       "1          816.0       2.0  13.05      False             1\n",
       "2          755.0       1.5  10.05      False             1\n",
       "3          231.0       1.1   7.55      False             1\n",
       "4          489.0       1.4   8.55      False             1\n",
       "...          ...       ...    ...        ...           ...\n",
       "962700     360.0       0.9   5.72      False             1\n",
       "962701     426.0       3.4  12.05      False             1\n",
       "962702     782.0       2.7  10.05      False             1\n",
       "962703     451.0       1.2   7.55      False             1\n",
       "962704    1315.0       7.9  17.55      False             1\n",
       "\n",
       "[962705 rows x 5 columns]"
      ]
     },
     "execution_count": 3,
     "metadata": {},
     "output_type": "execute_result"
    }
   ],
   "source": [
    "raw_df = pd.read_csv(\"trips_clean.csv\")\n",
    "df = raw_df.copy()\n",
    "df"
   ]
  },
  {
   "cell_type": "markdown",
   "metadata": {},
   "source": [
    "## Data Statistics"
   ]
  },
  {
   "cell_type": "code",
   "execution_count": 44,
   "metadata": {},
   "outputs": [
    {
     "data": {
      "text/html": [
       "<div>\n",
       "<style scoped>\n",
       "    .dataframe tbody tr th:only-of-type {\n",
       "        vertical-align: middle;\n",
       "    }\n",
       "\n",
       "    .dataframe tbody tr th {\n",
       "        vertical-align: top;\n",
       "    }\n",
       "\n",
       "    .dataframe thead th {\n",
       "        text-align: right;\n",
       "    }\n",
       "</style>\n",
       "<table border=\"1\" class=\"dataframe\">\n",
       "  <thead>\n",
       "    <tr style=\"text-align: right;\">\n",
       "      <th></th>\n",
       "      <th>DURATION</th>\n",
       "      <th>DISTANCE</th>\n",
       "      <th>FARE</th>\n",
       "      <th>TRIPS_POOLED</th>\n",
       "    </tr>\n",
       "  </thead>\n",
       "  <tbody>\n",
       "    <tr>\n",
       "      <th>count</th>\n",
       "      <td>962705.000000</td>\n",
       "      <td>962705.000000</td>\n",
       "      <td>962705.000000</td>\n",
       "      <td>962705.000000</td>\n",
       "    </tr>\n",
       "    <tr>\n",
       "      <th>mean</th>\n",
       "      <td>1010.771792</td>\n",
       "      <td>5.323332</td>\n",
       "      <td>13.695692</td>\n",
       "      <td>1.277437</td>\n",
       "    </tr>\n",
       "    <tr>\n",
       "      <th>std</th>\n",
       "      <td>636.816667</td>\n",
       "      <td>5.013243</td>\n",
       "      <td>8.284358</td>\n",
       "      <td>0.753383</td>\n",
       "    </tr>\n",
       "    <tr>\n",
       "      <th>min</th>\n",
       "      <td>3.000000</td>\n",
       "      <td>0.100000</td>\n",
       "      <td>0.670000</td>\n",
       "      <td>1.000000</td>\n",
       "    </tr>\n",
       "    <tr>\n",
       "      <th>25%</th>\n",
       "      <td>533.000000</td>\n",
       "      <td>1.800000</td>\n",
       "      <td>7.550000</td>\n",
       "      <td>1.000000</td>\n",
       "    </tr>\n",
       "    <tr>\n",
       "      <th>50%</th>\n",
       "      <td>852.000000</td>\n",
       "      <td>3.500000</td>\n",
       "      <td>10.600000</td>\n",
       "      <td>1.000000</td>\n",
       "    </tr>\n",
       "    <tr>\n",
       "      <th>75%</th>\n",
       "      <td>1339.000000</td>\n",
       "      <td>6.900000</td>\n",
       "      <td>16.000000</td>\n",
       "      <td>1.000000</td>\n",
       "    </tr>\n",
       "    <tr>\n",
       "      <th>max</th>\n",
       "      <td>3450.000000</td>\n",
       "      <td>26.600000</td>\n",
       "      <td>49.910000</td>\n",
       "      <td>24.000000</td>\n",
       "    </tr>\n",
       "  </tbody>\n",
       "</table>\n",
       "</div>"
      ],
      "text/plain": [
       "            DURATION       DISTANCE           FARE   TRIPS_POOLED\n",
       "count  962705.000000  962705.000000  962705.000000  962705.000000\n",
       "mean     1010.771792       5.323332      13.695692       1.277437\n",
       "std       636.816667       5.013243       8.284358       0.753383\n",
       "min         3.000000       0.100000       0.670000       1.000000\n",
       "25%       533.000000       1.800000       7.550000       1.000000\n",
       "50%       852.000000       3.500000      10.600000       1.000000\n",
       "75%      1339.000000       6.900000      16.000000       1.000000\n",
       "max      3450.000000      26.600000      49.910000      24.000000"
      ]
     },
     "execution_count": 44,
     "metadata": {},
     "output_type": "execute_result"
    }
   ],
   "source": [
    "df.describe().apply(lambda s: s.apply(lambda x: format(x, \"f\")))"
   ]
  },
  {
   "cell_type": "markdown",
   "metadata": {},
   "source": [
    "## Correlation of features in dataset"
   ]
  },
  {
   "cell_type": "code",
   "execution_count": 45,
   "metadata": {},
   "outputs": [
    {
     "data": {
      "text/html": [
       "<div>\n",
       "<style scoped>\n",
       "    .dataframe tbody tr th:only-of-type {\n",
       "        vertical-align: middle;\n",
       "    }\n",
       "\n",
       "    .dataframe tbody tr th {\n",
       "        vertical-align: top;\n",
       "    }\n",
       "\n",
       "    .dataframe thead th {\n",
       "        text-align: right;\n",
       "    }\n",
       "</style>\n",
       "<table border=\"1\" class=\"dataframe\">\n",
       "  <thead>\n",
       "    <tr style=\"text-align: right;\">\n",
       "      <th></th>\n",
       "      <th>DURATION</th>\n",
       "      <th>DISTANCE</th>\n",
       "      <th>FARE</th>\n",
       "      <th>IS_POOLED</th>\n",
       "      <th>TRIPS_POOLED</th>\n",
       "    </tr>\n",
       "  </thead>\n",
       "  <tbody>\n",
       "    <tr>\n",
       "      <th>DURATION</th>\n",
       "      <td>1.000000</td>\n",
       "      <td>0.807099</td>\n",
       "      <td>0.720275</td>\n",
       "      <td>0.134702</td>\n",
       "      <td>0.199882</td>\n",
       "    </tr>\n",
       "    <tr>\n",
       "      <th>DISTANCE</th>\n",
       "      <td>0.807099</td>\n",
       "      <td>1.000000</td>\n",
       "      <td>0.841301</td>\n",
       "      <td>0.044978</td>\n",
       "      <td>0.061162</td>\n",
       "    </tr>\n",
       "    <tr>\n",
       "      <th>FARE</th>\n",
       "      <td>0.720275</td>\n",
       "      <td>0.841301</td>\n",
       "      <td>1.000000</td>\n",
       "      <td>-0.246610</td>\n",
       "      <td>-0.190577</td>\n",
       "    </tr>\n",
       "    <tr>\n",
       "      <th>IS_POOLED</th>\n",
       "      <td>0.134702</td>\n",
       "      <td>0.044978</td>\n",
       "      <td>-0.246610</td>\n",
       "      <td>1.000000</td>\n",
       "      <td>0.668165</td>\n",
       "    </tr>\n",
       "    <tr>\n",
       "      <th>TRIPS_POOLED</th>\n",
       "      <td>0.199882</td>\n",
       "      <td>0.061162</td>\n",
       "      <td>-0.190577</td>\n",
       "      <td>0.668165</td>\n",
       "      <td>1.000000</td>\n",
       "    </tr>\n",
       "  </tbody>\n",
       "</table>\n",
       "</div>"
      ],
      "text/plain": [
       "              DURATION  DISTANCE      FARE  IS_POOLED  TRIPS_POOLED\n",
       "DURATION      1.000000  0.807099  0.720275   0.134702      0.199882\n",
       "DISTANCE      0.807099  1.000000  0.841301   0.044978      0.061162\n",
       "FARE          0.720275  0.841301  1.000000  -0.246610     -0.190577\n",
       "IS_POOLED     0.134702  0.044978 -0.246610   1.000000      0.668165\n",
       "TRIPS_POOLED  0.199882  0.061162 -0.190577   0.668165      1.000000"
      ]
     },
     "execution_count": 45,
     "metadata": {},
     "output_type": "execute_result"
    }
   ],
   "source": [
    "df.corr()"
   ]
  },
  {
   "cell_type": "markdown",
   "metadata": {},
   "source": [
    "## Data Distribution"
   ]
  },
  {
   "cell_type": "code",
   "execution_count": 68,
   "metadata": {},
   "outputs": [
    {
     "data": {
      "text/plain": [
       "<matplotlib.axes._subplots.AxesSubplot at 0x1a37288610>"
      ]
     },
     "execution_count": 68,
     "metadata": {},
     "output_type": "execute_result"
    },
    {
     "data": {
      "image/png": "[encoded data removed]",
      "text/plain": [
       "<Figure size 1440x720 with 1 Axes>"
      ]
     },
     "metadata": {},
     "output_type": "display_data"
    }
   ],
   "source": [
    "plt.figure(figsize=[20.0, 10.0])\n",
    "sns.distplot(df.FARE, kde=False)"
   ]
  },
  {
   "cell_type": "code",
   "execution_count": 69,
   "metadata": {},
   "outputs": [
    {
     "data": {
      "text/plain": [
       "<matplotlib.axes._subplots.AxesSubplot at 0x1a36624a90>"
      ]
     },
     "execution_count": 69,
     "metadata": {},
     "output_type": "execute_result"
    },
    {
     "data": {
      "image/png": "[encoded data removed]",
      "text/plain": [
       "<Figure size 1440x720 with 1 Axes>"
      ]
     },
     "metadata": {},
     "output_type": "display_data"
    }
   ],
   "source": [
    "plt.figure(figsize=[20.0, 10.0])\n",
    "sns.distplot(df.DURATION, kde=False)"
   ]
  },
  {
   "cell_type": "code",
   "execution_count": 70,
   "metadata": {},
   "outputs": [
    {
     "data": {
      "text/plain": [
       "<matplotlib.axes._subplots.AxesSubplot at 0x1a3620a850>"
      ]
     },
     "execution_count": 70,
     "metadata": {},
     "output_type": "execute_result"
    },
    {
     "data": {
      "image/png": "[encoded data removed]",
      "text/plain": [
       "<Figure size 1440x720 with 1 Axes>"
      ]
     },
     "metadata": {},
     "output_type": "display_data"
    }
   ],
   "source": [
    "plt.figure(figsize=[20.0, 10.0])\n",
    "sns.distplot(df.DISTANCE, kde=False)"
   ]
  },
  {
   "cell_type": "markdown",
   "metadata": {},
   "source": [
    "------------------------------"
   ]
  },
  {
   "cell_type": "markdown",
   "metadata": {},
   "source": [
    "## Splitting data into training and test data"
   ]
  },
  {
   "cell_type": "code",
   "execution_count": 50,
   "metadata": {},
   "outputs": [],
   "source": [
    "target = df.FARE\n",
    "features = df.drop(\"FARE\", axis=1)\n",
    "x_train, x_test, y_train, y_test = train_test_split(features, target, test_size=0.2, random_state=0)"
   ]
  },
  {
   "cell_type": "markdown",
   "metadata": {},
   "source": [
    "## Model Selection"
   ]
  },
  {
   "cell_type": "code",
   "execution_count": 51,
   "metadata": {},
   "outputs": [],
   "source": [
    "regressors = {\n",
    "    \"Linear Regression\": LinearRegression(n_jobs=8),\n",
    "    \"DecisionTree Regression\": DecisionTreeRegressor(max_depth=10, random_state=7),\n",
    "    \"RandomForest Regression\": RandomForestRegressor(max_depth=10, n_estimators=10, random_state=7, n_jobs=8),\n",
    "    \"Gradient Boosting Regression\": GradientBoostingRegressor(n_estimators=250, random_state=7),\n",
    "    \"Linear Support Vector Regression\": LinearSVR(tol=1e-4, max_iter=1000, random_state=7),\n",
    "    \"K-Nearest Neighbors Regression\": KNeighborsRegressor(n_jobs=8)\n",
    "}"
   ]
  },
  {
   "cell_type": "code",
   "execution_count": 52,
   "metadata": {},
   "outputs": [],
   "source": [
    "def run_cross_validations(regressor, features, target):\n",
    "    try:\n",
    "        pipeline = Pipeline([\n",
    "            (\"scaler\", RobustScaler()),\n",
    "            (\"regressor\", regressors.get(regressor)),\n",
    "        ])\n",
    "        scores = cross_val_score(pipeline, features, target, cv=KFold(n_splits=5, random_state=0))\n",
    "        print(f\"[{regressor}] Validation Score: {scores.mean() * 100:.2f}% (+/- {scores.std() * 200:.2f}%)\")\n",
    "    except Exception as e:\n",
    "        print(f\"[{regressor}] Validation Error: {e}\")"
   ]
  },
  {
   "cell_type": "code",
   "execution_count": 27,
   "metadata": {},
   "outputs": [
    {
     "name": "stdout",
     "output_type": "stream",
     "text": [
      "[Linear Regression] Validation Score: 81.22% (+/- 0.13%)\n",
      "[K Nearest Neighbors Regression] Validation Score: 82.23% (+/- 0.15%)\n",
      "[DecisionTree Regression] Validation Score: 84.41% (+/- 0.15%)\n",
      "[RandomForest Regression] Validation Score: 84.58% (+/- 0.13%)\n",
      "[Gradient Boosting Regression] Validation Score: 84.47% (+/- 0.15%)\n",
      "[Linear Support Vector Regression] Validation Score: 79.91% (+/- 0.16%)\n",
      "CPU times: user 1h 14min 26s, sys: 33.3 s, total: 1h 14min 59s\n",
      "Wall time: 52min 56s\n"
     ]
    }
   ],
   "source": [
    "%%time\n",
    "for reg in regressors:\n",
    "    run_cross_validations(reg, features, target)"
   ]
  },
  {
   "cell_type": "code",
   "execution_count": 99,
   "metadata": {},
   "outputs": [],
   "source": [
    "def get_performance_metrics(regressor, train_x, train_y, test_x, test_y):\n",
    "    # Standardize the data\n",
    "    scaler = RobustScaler().fit(train_x)\n",
    "    train_x_std = scaler.transform(train_x)\n",
    "    test_x_std = scaler.transform(test_x)\n",
    "    \n",
    "    # Train the regression model\n",
    "    regressor.fit(train_x_std, train_y)\n",
    "    \n",
    "    # Test the regression model\n",
    "    pred_y = regressor.predict(test_x_std)\n",
    "    \n",
    "    # Calculate the performance metrics\n",
    "    mae = mean_absolute_error(test_y, pred_y)    # Less is better (min/best=0.0)\n",
    "    rmse = mean_squared_error(test_y, pred_y)    # Less is better (min/best=0.0)\n",
    "    r2 = r2_score(test_y, pred_y)                # More is better (max/best=1.0)\n",
    "    \n",
    "    title = f\"Preformance Metrics for Regression Model: {regressor.__class__}\"\n",
    "    print(\"-\" * len(title))\n",
    "    print(title.title())\n",
    "    print(\"-\" * len(title))\n",
    "    print(f\"Mean Absolute Error     : {mae:.2f}\")\n",
    "    print(f\"Root Mean Squared Error : {rmse:.2f}\")\n",
    "    print(f\"R^2 Score               : {r2:.2f}\")"
   ]
  },
  {
   "cell_type": "code",
   "execution_count": 13,
   "metadata": {},
   "outputs": [
    {
     "name": "stdout",
     "output_type": "stream",
     "text": [
      "Preformance Metrics For Regression Model: <Class 'Sklearn.Linear_Model.Base.Linearregression'>\n",
      "----------------------------------------------------------------------------------------------\n",
      "Mean Absolute Error     : 2.49\n",
      "Root Mean Squared Error : 12.94\n",
      "R^2 Score               : 0.81\n",
      "----------------------------------------------------------------------------------------------\n",
      "\n",
      "Preformance Metrics For Regression Model: <Class 'Sklearn.Tree.Tree.Decisiontreeregressor'>\n",
      "-------------------------------------------------------------------------------------------\n",
      "Mean Absolute Error     : 2.17\n",
      "Root Mean Squared Error : 10.74\n",
      "R^2 Score               : 0.84\n",
      "-------------------------------------------------------------------------------------------\n",
      "\n",
      "Preformance Metrics For Regression Model: <Class 'Sklearn.Ensemble.Forest.Randomforestregressor'>\n",
      "-------------------------------------------------------------------------------------------------\n",
      "Mean Absolute Error     : 2.15\n",
      "Root Mean Squared Error : 10.62\n",
      "R^2 Score               : 0.85\n",
      "-------------------------------------------------------------------------------------------------\n",
      "\n",
      "Preformance Metrics For Regression Model: <Class 'Sklearn.Ensemble.Gradient_Boosting.Gradientboostingregressor'>\n",
      "----------------------------------------------------------------------------------------------------------------\n",
      "Mean Absolute Error     : 2.16\n",
      "Root Mean Squared Error : 10.71\n",
      "R^2 Score               : 0.84\n",
      "----------------------------------------------------------------------------------------------------------------\n",
      "\n",
      "Preformance Metrics For Regression Model: <Class 'Sklearn.Svm.Classes.Linearsvr'>\n",
      "---------------------------------------------------------------------------------\n",
      "Mean Absolute Error     : 2.33\n",
      "Root Mean Squared Error : 13.85\n",
      "R^2 Score               : 0.80\n",
      "---------------------------------------------------------------------------------\n",
      "\n",
      "CPU times: user 5min 47s, sys: 2.35 s, total: 5min 49s\n",
      "Wall time: 1min 14s\n"
     ]
    }
   ],
   "source": [
    "%%time\n",
    "regressors = {\n",
    "    \"Linear Regression\": LinearRegression(n_jobs=8),\n",
    "    \"DecisionTree Regression\": DecisionTreeRegressor(max_depth=10, random_state=7),\n",
    "    \"RandomForest Regression\": RandomForestRegressor(max_depth=10, n_estimators=10, random_state=7, n_jobs=8),\n",
    "    \"Gradient Boosting Regression\": GradientBoostingRegressor(n_estimators=250, random_state=7),\n",
    "    \"Linear Support Vector Regression\": LinearSVR(tol=1e-4, max_iter=1000, random_state=7)\n",
    "}\n",
    "for _, regression_model in regressors.items():\n",
    "    get_performance_metrics(regression_model, x_train, y_train, x_test, y_test)\n",
    "    print(\"\")"
   ]
  },
  {
   "cell_type": "markdown",
   "metadata": {},
   "source": [
    "**In the above experiments, DecisionTreeRegressor & RandomForestRegressor performed the best. We will select RandomForestRegressor as our model to predict rideshare trip fare which had:** \n",
    "\n",
    "**Accuracy                :** *84.58% (+/- 0.13%)*\n",
    "\n",
    "**Mean Absolute Error     :** *2.15*\n",
    "\n",
    "**Root Mean Squared Error :** *10.62*\n",
    "\n",
    "**R^2 Score               :** *0.85*\n",
    "\n",
    "**Reasons for selecting RandomForestRegressor over DecisionTreeRegressor:**\n",
    "\n",
    "- Random Forests can handle large amount of data.\n",
    "\n",
    "- Random Forests are very quick to train.\n",
    "\n",
    "- Random Forests perform implicit feature selection and provide a pretty good indicator of feature importance.\n",
    "\n",
    "- Random Forests require almost no input preparation. They can handle binary features, categorical features, numerical features without any need for scaling.\n",
    "\n",
    "- It’s really hard to build a bad Random Forest! Since random forests are not very sensitive to the specific hyper-parameters used, they don’t require a lot of tweaking and fiddling to get a decent model.\n",
    "\n",
    "- Random Forest are applicable to a wide variety of modeling tasks, they work well for regression tasks, work very well for classification taks.\n",
    "\n",
    "- Random Forests can be easily grown in parallel."
   ]
  },
  {
   "cell_type": "markdown",
   "metadata": {},
   "source": [
    "------------------"
   ]
  },
  {
   "cell_type": "markdown",
   "metadata": {},
   "source": [
    "### Performing GridSearch to get the best HyperParameters for RandomForestRegressor"
   ]
  },
  {
   "cell_type": "code",
   "execution_count": 15,
   "metadata": {},
   "outputs": [],
   "source": [
    "# Splitting training and test data\n",
    "target = df.FARE\n",
    "features = df.drop(\"FARE\", axis=1)\n",
    "x_train, x_test, y_train, y_test = train_test_split(features, target, test_size=0.2, random_state=7)\n",
    "\n",
    "# Standardazing training and test data\n",
    "scaler = RobustScaler().fit(x_train)\n",
    "x_train_std = scaler.transform(x_train)\n",
    "x_test_std = scaler.transform(x_test)"
   ]
  },
  {
   "cell_type": "code",
   "execution_count": 16,
   "metadata": {},
   "outputs": [
    {
     "data": {
      "text/plain": [
       "{'n_estimators': [5, 10, 15, 50, 75, 100],\n",
       " 'max_depth': [5, 10, 12, 15, 18, 25, 30]}"
      ]
     },
     "execution_count": 16,
     "metadata": {},
     "output_type": "execute_result"
    }
   ],
   "source": [
    "parameters = {\n",
    "    \"n_estimators\": [5, 10, 15, 50, 75, 100],\n",
    "    \"max_depth\": [5, 10, 12, 15, 18, 25, 30]\n",
    "}\n",
    "parameters"
   ]
  },
  {
   "cell_type": "code",
   "execution_count": 17,
   "metadata": {},
   "outputs": [],
   "source": [
    "gs = GridSearchCV(\n",
    "    estimator=RandomForestRegressor(random_state=7),\n",
    "    param_grid=parameters,\n",
    "    cv=5,\n",
    "    n_jobs=8\n",
    ")"
   ]
  },
  {
   "cell_type": "code",
   "execution_count": 18,
   "metadata": {},
   "outputs": [
    {
     "name": "stdout",
     "output_type": "stream",
     "text": [
      "CPU times: user 1min 45s, sys: 1.03 s, total: 1min 46s\n",
      "Wall time: 40min 47s\n"
     ]
    },
    {
     "data": {
      "text/plain": [
       "GridSearchCV(cv=5, error_score='raise-deprecating',\n",
       "             estimator=RandomForestRegressor(bootstrap=True, criterion='mse',\n",
       "                                             max_depth=None,\n",
       "                                             max_features='auto',\n",
       "                                             max_leaf_nodes=None,\n",
       "                                             min_impurity_decrease=0.0,\n",
       "                                             min_impurity_split=None,\n",
       "                                             min_samples_leaf=1,\n",
       "                                             min_samples_split=2,\n",
       "                                             min_weight_fraction_leaf=0.0,\n",
       "                                             n_estimators='warn', n_jobs=None,\n",
       "                                             oob_score=False, random_state=7,\n",
       "                                             verbose=0, warm_start=False),\n",
       "             iid='warn', n_jobs=8,\n",
       "             param_grid={'max_depth': [5, 10, 12, 15, 18, 25, 30],\n",
       "                         'n_estimators': [5, 10, 15, 50, 75, 100]},\n",
       "             pre_dispatch='2*n_jobs', refit=True, return_train_score=False,\n",
       "             scoring=None, verbose=0)"
      ]
     },
     "execution_count": 18,
     "metadata": {},
     "output_type": "execute_result"
    }
   ],
   "source": [
    "%%time\n",
    "gs.fit(features, target)"
   ]
  },
  {
   "cell_type": "code",
   "execution_count": 27,
   "metadata": {},
   "outputs": [
    {
     "data": {
      "text/html": [
       "<div>\n",
       "<style scoped>\n",
       "    .dataframe tbody tr th:only-of-type {\n",
       "        vertical-align: middle;\n",
       "    }\n",
       "\n",
       "    .dataframe tbody tr th {\n",
       "        vertical-align: top;\n",
       "    }\n",
       "\n",
       "    .dataframe thead th {\n",
       "        text-align: right;\n",
       "    }\n",
       "</style>\n",
       "<table border=\"1\" class=\"dataframe\">\n",
       "  <thead>\n",
       "    <tr style=\"text-align: right;\">\n",
       "      <th></th>\n",
       "      <th>mean_fit_time</th>\n",
       "      <th>std_fit_time</th>\n",
       "      <th>mean_score_time</th>\n",
       "      <th>std_score_time</th>\n",
       "      <th>param_max_depth</th>\n",
       "      <th>param_n_estimators</th>\n",
       "      <th>params</th>\n",
       "      <th>split0_test_score</th>\n",
       "      <th>split1_test_score</th>\n",
       "      <th>split2_test_score</th>\n",
       "      <th>split3_test_score</th>\n",
       "      <th>split4_test_score</th>\n",
       "      <th>mean_test_score</th>\n",
       "      <th>std_test_score</th>\n",
       "      <th>rank_test_score</th>\n",
       "    </tr>\n",
       "  </thead>\n",
       "  <tbody>\n",
       "    <tr>\n",
       "      <th>0</th>\n",
       "      <td>6.233104</td>\n",
       "      <td>0.107675</td>\n",
       "      <td>0.143711</td>\n",
       "      <td>0.006516</td>\n",
       "      <td>5</td>\n",
       "      <td>5</td>\n",
       "      <td>{'max_depth': 5, 'n_estimators': 5}</td>\n",
       "      <td>0.827191</td>\n",
       "      <td>0.826452</td>\n",
       "      <td>0.827079</td>\n",
       "      <td>0.828245</td>\n",
       "      <td>0.828142</td>\n",
       "      <td>0.827422</td>\n",
       "      <td>0.000679</td>\n",
       "      <td>30</td>\n",
       "    </tr>\n",
       "    <tr>\n",
       "      <th>1</th>\n",
       "      <td>11.738039</td>\n",
       "      <td>0.111203</td>\n",
       "      <td>0.223073</td>\n",
       "      <td>0.011943</td>\n",
       "      <td>5</td>\n",
       "      <td>10</td>\n",
       "      <td>{'max_depth': 5, 'n_estimators': 10}</td>\n",
       "      <td>0.828105</td>\n",
       "      <td>0.826859</td>\n",
       "      <td>0.827663</td>\n",
       "      <td>0.829139</td>\n",
       "      <td>0.828728</td>\n",
       "      <td>0.828099</td>\n",
       "      <td>0.000801</td>\n",
       "      <td>29</td>\n",
       "    </tr>\n",
       "    <tr>\n",
       "      <th>2</th>\n",
       "      <td>17.560186</td>\n",
       "      <td>0.133086</td>\n",
       "      <td>0.265459</td>\n",
       "      <td>0.014684</td>\n",
       "      <td>5</td>\n",
       "      <td>15</td>\n",
       "      <td>{'max_depth': 5, 'n_estimators': 15}</td>\n",
       "      <td>0.828030</td>\n",
       "      <td>0.827935</td>\n",
       "      <td>0.827566</td>\n",
       "      <td>0.829760</td>\n",
       "      <td>0.829087</td>\n",
       "      <td>0.828476</td>\n",
       "      <td>0.000817</td>\n",
       "      <td>25</td>\n",
       "    </tr>\n",
       "    <tr>\n",
       "      <th>3</th>\n",
       "      <td>58.208812</td>\n",
       "      <td>0.240408</td>\n",
       "      <td>0.676648</td>\n",
       "      <td>0.039062</td>\n",
       "      <td>5</td>\n",
       "      <td>50</td>\n",
       "      <td>{'max_depth': 5, 'n_estimators': 50}</td>\n",
       "      <td>0.827619</td>\n",
       "      <td>0.827980</td>\n",
       "      <td>0.827558</td>\n",
       "      <td>0.829662</td>\n",
       "      <td>0.828889</td>\n",
       "      <td>0.828342</td>\n",
       "      <td>0.000814</td>\n",
       "      <td>27</td>\n",
       "    </tr>\n",
       "    <tr>\n",
       "      <th>4</th>\n",
       "      <td>86.454514</td>\n",
       "      <td>0.887566</td>\n",
       "      <td>0.960724</td>\n",
       "      <td>0.051237</td>\n",
       "      <td>5</td>\n",
       "      <td>75</td>\n",
       "      <td>{'max_depth': 5, 'n_estimators': 75}</td>\n",
       "      <td>0.827592</td>\n",
       "      <td>0.827933</td>\n",
       "      <td>0.827640</td>\n",
       "      <td>0.829773</td>\n",
       "      <td>0.828836</td>\n",
       "      <td>0.828355</td>\n",
       "      <td>0.000838</td>\n",
       "      <td>26</td>\n",
       "    </tr>\n",
       "    <tr>\n",
       "      <th>5</th>\n",
       "      <td>112.305564</td>\n",
       "      <td>1.236964</td>\n",
       "      <td>1.238544</td>\n",
       "      <td>0.056919</td>\n",
       "      <td>5</td>\n",
       "      <td>100</td>\n",
       "      <td>{'max_depth': 5, 'n_estimators': 100}</td>\n",
       "      <td>0.827611</td>\n",
       "      <td>0.827843</td>\n",
       "      <td>0.827747</td>\n",
       "      <td>0.829725</td>\n",
       "      <td>0.828718</td>\n",
       "      <td>0.828329</td>\n",
       "      <td>0.000799</td>\n",
       "      <td>28</td>\n",
       "    </tr>\n",
       "    <tr>\n",
       "      <th>6</th>\n",
       "      <td>10.167020</td>\n",
       "      <td>0.249987</td>\n",
       "      <td>0.230475</td>\n",
       "      <td>0.007455</td>\n",
       "      <td>10</td>\n",
       "      <td>5</td>\n",
       "      <td>{'max_depth': 10, 'n_estimators': 5}</td>\n",
       "      <td>0.845532</td>\n",
       "      <td>0.844597</td>\n",
       "      <td>0.844935</td>\n",
       "      <td>0.846575</td>\n",
       "      <td>0.845772</td>\n",
       "      <td>0.845482</td>\n",
       "      <td>0.000688</td>\n",
       "      <td>10</td>\n",
       "    </tr>\n",
       "    <tr>\n",
       "      <th>7</th>\n",
       "      <td>19.355752</td>\n",
       "      <td>0.203591</td>\n",
       "      <td>0.373707</td>\n",
       "      <td>0.010403</td>\n",
       "      <td>10</td>\n",
       "      <td>10</td>\n",
       "      <td>{'max_depth': 10, 'n_estimators': 10}</td>\n",
       "      <td>0.845848</td>\n",
       "      <td>0.845077</td>\n",
       "      <td>0.845180</td>\n",
       "      <td>0.846834</td>\n",
       "      <td>0.846215</td>\n",
       "      <td>0.845831</td>\n",
       "      <td>0.000655</td>\n",
       "      <td>8</td>\n",
       "    </tr>\n",
       "    <tr>\n",
       "      <th>8</th>\n",
       "      <td>28.040478</td>\n",
       "      <td>0.180063</td>\n",
       "      <td>0.483786</td>\n",
       "      <td>0.027682</td>\n",
       "      <td>10</td>\n",
       "      <td>15</td>\n",
       "      <td>{'max_depth': 10, 'n_estimators': 15}</td>\n",
       "      <td>0.845980</td>\n",
       "      <td>0.845205</td>\n",
       "      <td>0.845317</td>\n",
       "      <td>0.846954</td>\n",
       "      <td>0.846304</td>\n",
       "      <td>0.845952</td>\n",
       "      <td>0.000646</td>\n",
       "      <td>7</td>\n",
       "    </tr>\n",
       "    <tr>\n",
       "      <th>9</th>\n",
       "      <td>92.806331</td>\n",
       "      <td>0.453455</td>\n",
       "      <td>1.381551</td>\n",
       "      <td>0.055798</td>\n",
       "      <td>10</td>\n",
       "      <td>50</td>\n",
       "      <td>{'max_depth': 10, 'n_estimators': 50}</td>\n",
       "      <td>0.846094</td>\n",
       "      <td>0.845351</td>\n",
       "      <td>0.845363</td>\n",
       "      <td>0.847119</td>\n",
       "      <td>0.846466</td>\n",
       "      <td>0.846078</td>\n",
       "      <td>0.000675</td>\n",
       "      <td>3</td>\n",
       "    </tr>\n",
       "    <tr>\n",
       "      <th>10</th>\n",
       "      <td>137.035786</td>\n",
       "      <td>1.117772</td>\n",
       "      <td>1.976171</td>\n",
       "      <td>0.037952</td>\n",
       "      <td>10</td>\n",
       "      <td>75</td>\n",
       "      <td>{'max_depth': 10, 'n_estimators': 75}</td>\n",
       "      <td>0.846112</td>\n",
       "      <td>0.845360</td>\n",
       "      <td>0.845354</td>\n",
       "      <td>0.847133</td>\n",
       "      <td>0.846508</td>\n",
       "      <td>0.846093</td>\n",
       "      <td>0.000684</td>\n",
       "      <td>2</td>\n",
       "    </tr>\n",
       "    <tr>\n",
       "      <th>11</th>\n",
       "      <td>179.192687</td>\n",
       "      <td>1.358733</td>\n",
       "      <td>2.387480</td>\n",
       "      <td>0.106826</td>\n",
       "      <td>10</td>\n",
       "      <td>100</td>\n",
       "      <td>{'max_depth': 10, 'n_estimators': 100}</td>\n",
       "      <td>0.846129</td>\n",
       "      <td>0.845355</td>\n",
       "      <td>0.845381</td>\n",
       "      <td>0.847138</td>\n",
       "      <td>0.846509</td>\n",
       "      <td>0.846102</td>\n",
       "      <td>0.000681</td>\n",
       "      <td>1</td>\n",
       "    </tr>\n",
       "    <tr>\n",
       "      <th>12</th>\n",
       "      <td>10.769496</td>\n",
       "      <td>0.123859</td>\n",
       "      <td>0.272249</td>\n",
       "      <td>0.011284</td>\n",
       "      <td>12</td>\n",
       "      <td>5</td>\n",
       "      <td>{'max_depth': 12, 'n_estimators': 5}</td>\n",
       "      <td>0.844533</td>\n",
       "      <td>0.843847</td>\n",
       "      <td>0.844122</td>\n",
       "      <td>0.845597</td>\n",
       "      <td>0.844800</td>\n",
       "      <td>0.844580</td>\n",
       "      <td>0.000605</td>\n",
       "      <td>12</td>\n",
       "    </tr>\n",
       "    <tr>\n",
       "      <th>13</th>\n",
       "      <td>20.480561</td>\n",
       "      <td>0.170717</td>\n",
       "      <td>0.442941</td>\n",
       "      <td>0.018452</td>\n",
       "      <td>12</td>\n",
       "      <td>10</td>\n",
       "      <td>{'max_depth': 12, 'n_estimators': 10}</td>\n",
       "      <td>0.845462</td>\n",
       "      <td>0.844675</td>\n",
       "      <td>0.844653</td>\n",
       "      <td>0.846376</td>\n",
       "      <td>0.845702</td>\n",
       "      <td>0.845374</td>\n",
       "      <td>0.000652</td>\n",
       "      <td>11</td>\n",
       "    </tr>\n",
       "    <tr>\n",
       "      <th>14</th>\n",
       "      <td>29.911042</td>\n",
       "      <td>0.369249</td>\n",
       "      <td>0.556464</td>\n",
       "      <td>0.041236</td>\n",
       "      <td>12</td>\n",
       "      <td>15</td>\n",
       "      <td>{'max_depth': 12, 'n_estimators': 15}</td>\n",
       "      <td>0.845706</td>\n",
       "      <td>0.844992</td>\n",
       "      <td>0.844879</td>\n",
       "      <td>0.846670</td>\n",
       "      <td>0.845948</td>\n",
       "      <td>0.845639</td>\n",
       "      <td>0.000657</td>\n",
       "      <td>9</td>\n",
       "    </tr>\n",
       "    <tr>\n",
       "      <th>15</th>\n",
       "      <td>98.204920</td>\n",
       "      <td>0.226023</td>\n",
       "      <td>1.684415</td>\n",
       "      <td>0.066196</td>\n",
       "      <td>12</td>\n",
       "      <td>50</td>\n",
       "      <td>{'max_depth': 12, 'n_estimators': 50}</td>\n",
       "      <td>0.846057</td>\n",
       "      <td>0.845263</td>\n",
       "      <td>0.845138</td>\n",
       "      <td>0.847002</td>\n",
       "      <td>0.846387</td>\n",
       "      <td>0.845969</td>\n",
       "      <td>0.000698</td>\n",
       "      <td>6</td>\n",
       "    </tr>\n",
       "    <tr>\n",
       "      <th>16</th>\n",
       "      <td>145.929383</td>\n",
       "      <td>1.310477</td>\n",
       "      <td>2.399943</td>\n",
       "      <td>0.121078</td>\n",
       "      <td>12</td>\n",
       "      <td>75</td>\n",
       "      <td>{'max_depth': 12, 'n_estimators': 75}</td>\n",
       "      <td>0.846083</td>\n",
       "      <td>0.845313</td>\n",
       "      <td>0.845162</td>\n",
       "      <td>0.847034</td>\n",
       "      <td>0.846431</td>\n",
       "      <td>0.846005</td>\n",
       "      <td>0.000698</td>\n",
       "      <td>5</td>\n",
       "    </tr>\n",
       "    <tr>\n",
       "      <th>17</th>\n",
       "      <td>189.614091</td>\n",
       "      <td>2.037652</td>\n",
       "      <td>3.297426</td>\n",
       "      <td>0.028503</td>\n",
       "      <td>12</td>\n",
       "      <td>100</td>\n",
       "      <td>{'max_depth': 12, 'n_estimators': 100}</td>\n",
       "      <td>0.846124</td>\n",
       "      <td>0.845306</td>\n",
       "      <td>0.845200</td>\n",
       "      <td>0.847051</td>\n",
       "      <td>0.846440</td>\n",
       "      <td>0.846024</td>\n",
       "      <td>0.000698</td>\n",
       "      <td>4</td>\n",
       "    </tr>\n",
       "    <tr>\n",
       "      <th>18</th>\n",
       "      <td>11.240561</td>\n",
       "      <td>0.267472</td>\n",
       "      <td>0.395296</td>\n",
       "      <td>0.023539</td>\n",
       "      <td>15</td>\n",
       "      <td>5</td>\n",
       "      <td>{'max_depth': 15, 'n_estimators': 5}</td>\n",
       "      <td>0.839757</td>\n",
       "      <td>0.839535</td>\n",
       "      <td>0.839312</td>\n",
       "      <td>0.840909</td>\n",
       "      <td>0.840403</td>\n",
       "      <td>0.839983</td>\n",
       "      <td>0.000589</td>\n",
       "      <td>18</td>\n",
       "    </tr>\n",
       "    <tr>\n",
       "      <th>19</th>\n",
       "      <td>22.059519</td>\n",
       "      <td>0.137293</td>\n",
       "      <td>0.600416</td>\n",
       "      <td>0.032413</td>\n",
       "      <td>15</td>\n",
       "      <td>10</td>\n",
       "      <td>{'max_depth': 15, 'n_estimators': 10}</td>\n",
       "      <td>0.842167</td>\n",
       "      <td>0.841727</td>\n",
       "      <td>0.841190</td>\n",
       "      <td>0.843102</td>\n",
       "      <td>0.842350</td>\n",
       "      <td>0.842107</td>\n",
       "      <td>0.000638</td>\n",
       "      <td>17</td>\n",
       "    </tr>\n",
       "    <tr>\n",
       "      <th>20</th>\n",
       "      <td>31.348447</td>\n",
       "      <td>0.554606</td>\n",
       "      <td>0.877820</td>\n",
       "      <td>0.028732</td>\n",
       "      <td>15</td>\n",
       "      <td>15</td>\n",
       "      <td>{'max_depth': 15, 'n_estimators': 15}</td>\n",
       "      <td>0.842830</td>\n",
       "      <td>0.842321</td>\n",
       "      <td>0.841875</td>\n",
       "      <td>0.843832</td>\n",
       "      <td>0.843146</td>\n",
       "      <td>0.842801</td>\n",
       "      <td>0.000674</td>\n",
       "      <td>16</td>\n",
       "    </tr>\n",
       "    <tr>\n",
       "      <th>21</th>\n",
       "      <td>103.548211</td>\n",
       "      <td>0.581491</td>\n",
       "      <td>2.668215</td>\n",
       "      <td>0.075787</td>\n",
       "      <td>15</td>\n",
       "      <td>50</td>\n",
       "      <td>{'max_depth': 15, 'n_estimators': 50}</td>\n",
       "      <td>0.843881</td>\n",
       "      <td>0.843143</td>\n",
       "      <td>0.842799</td>\n",
       "      <td>0.844791</td>\n",
       "      <td>0.844161</td>\n",
       "      <td>0.843755</td>\n",
       "      <td>0.000713</td>\n",
       "      <td>15</td>\n",
       "    </tr>\n",
       "    <tr>\n",
       "      <th>22</th>\n",
       "      <td>153.749855</td>\n",
       "      <td>0.810030</td>\n",
       "      <td>3.889133</td>\n",
       "      <td>0.090969</td>\n",
       "      <td>15</td>\n",
       "      <td>75</td>\n",
       "      <td>{'max_depth': 15, 'n_estimators': 75}</td>\n",
       "      <td>0.844005</td>\n",
       "      <td>0.843266</td>\n",
       "      <td>0.842945</td>\n",
       "      <td>0.844927</td>\n",
       "      <td>0.844274</td>\n",
       "      <td>0.843883</td>\n",
       "      <td>0.000710</td>\n",
       "      <td>14</td>\n",
       "    </tr>\n",
       "    <tr>\n",
       "      <th>23</th>\n",
       "      <td>202.507062</td>\n",
       "      <td>0.984850</td>\n",
       "      <td>4.834917</td>\n",
       "      <td>0.236356</td>\n",
       "      <td>15</td>\n",
       "      <td>100</td>\n",
       "      <td>{'max_depth': 15, 'n_estimators': 100}</td>\n",
       "      <td>0.844113</td>\n",
       "      <td>0.843322</td>\n",
       "      <td>0.842989</td>\n",
       "      <td>0.844976</td>\n",
       "      <td>0.844348</td>\n",
       "      <td>0.843949</td>\n",
       "      <td>0.000715</td>\n",
       "      <td>13</td>\n",
       "    </tr>\n",
       "    <tr>\n",
       "      <th>24</th>\n",
       "      <td>11.589578</td>\n",
       "      <td>0.343972</td>\n",
       "      <td>0.505146</td>\n",
       "      <td>0.032008</td>\n",
       "      <td>18</td>\n",
       "      <td>5</td>\n",
       "      <td>{'max_depth': 18, 'n_estimators': 5}</td>\n",
       "      <td>0.831224</td>\n",
       "      <td>0.830795</td>\n",
       "      <td>0.830093</td>\n",
       "      <td>0.831823</td>\n",
       "      <td>0.831025</td>\n",
       "      <td>0.830992</td>\n",
       "      <td>0.000564</td>\n",
       "      <td>24</td>\n",
       "    </tr>\n",
       "    <tr>\n",
       "      <th>25</th>\n",
       "      <td>22.612287</td>\n",
       "      <td>0.178315</td>\n",
       "      <td>0.942517</td>\n",
       "      <td>0.043159</td>\n",
       "      <td>18</td>\n",
       "      <td>10</td>\n",
       "      <td>{'max_depth': 18, 'n_estimators': 10}</td>\n",
       "      <td>0.835305</td>\n",
       "      <td>0.834644</td>\n",
       "      <td>0.833724</td>\n",
       "      <td>0.836019</td>\n",
       "      <td>0.835106</td>\n",
       "      <td>0.834960</td>\n",
       "      <td>0.000760</td>\n",
       "      <td>23</td>\n",
       "    </tr>\n",
       "    <tr>\n",
       "      <th>26</th>\n",
       "      <td>32.417800</td>\n",
       "      <td>0.510129</td>\n",
       "      <td>1.294796</td>\n",
       "      <td>0.076406</td>\n",
       "      <td>18</td>\n",
       "      <td>15</td>\n",
       "      <td>{'max_depth': 18, 'n_estimators': 15}</td>\n",
       "      <td>0.836664</td>\n",
       "      <td>0.835748</td>\n",
       "      <td>0.834962</td>\n",
       "      <td>0.837416</td>\n",
       "      <td>0.836319</td>\n",
       "      <td>0.836222</td>\n",
       "      <td>0.000830</td>\n",
       "      <td>22</td>\n",
       "    </tr>\n",
       "    <tr>\n",
       "      <th>27</th>\n",
       "      <td>109.423082</td>\n",
       "      <td>0.319086</td>\n",
       "      <td>4.122267</td>\n",
       "      <td>0.058421</td>\n",
       "      <td>18</td>\n",
       "      <td>50</td>\n",
       "      <td>{'max_depth': 18, 'n_estimators': 50}</td>\n",
       "      <td>0.838505</td>\n",
       "      <td>0.837505</td>\n",
       "      <td>0.836966</td>\n",
       "      <td>0.839228</td>\n",
       "      <td>0.838217</td>\n",
       "      <td>0.838084</td>\n",
       "      <td>0.000786</td>\n",
       "      <td>21</td>\n",
       "    </tr>\n",
       "    <tr>\n",
       "      <th>28</th>\n",
       "      <td>161.350258</td>\n",
       "      <td>1.160586</td>\n",
       "      <td>6.176589</td>\n",
       "      <td>0.134451</td>\n",
       "      <td>18</td>\n",
       "      <td>75</td>\n",
       "      <td>{'max_depth': 18, 'n_estimators': 75}</td>\n",
       "      <td>0.838664</td>\n",
       "      <td>0.837718</td>\n",
       "      <td>0.837303</td>\n",
       "      <td>0.839462</td>\n",
       "      <td>0.838476</td>\n",
       "      <td>0.838324</td>\n",
       "      <td>0.000754</td>\n",
       "      <td>20</td>\n",
       "    </tr>\n",
       "    <tr>\n",
       "      <th>29</th>\n",
       "      <td>210.871156</td>\n",
       "      <td>2.846102</td>\n",
       "      <td>7.515308</td>\n",
       "      <td>0.084330</td>\n",
       "      <td>18</td>\n",
       "      <td>100</td>\n",
       "      <td>{'max_depth': 18, 'n_estimators': 100}</td>\n",
       "      <td>0.838805</td>\n",
       "      <td>0.837836</td>\n",
       "      <td>0.837471</td>\n",
       "      <td>0.839563</td>\n",
       "      <td>0.838670</td>\n",
       "      <td>0.838469</td>\n",
       "      <td>0.000741</td>\n",
       "      <td>19</td>\n",
       "    </tr>\n",
       "    <tr>\n",
       "      <th>30</th>\n",
       "      <td>12.268801</td>\n",
       "      <td>0.228117</td>\n",
       "      <td>0.856956</td>\n",
       "      <td>0.063935</td>\n",
       "      <td>25</td>\n",
       "      <td>5</td>\n",
       "      <td>{'max_depth': 25, 'n_estimators': 5}</td>\n",
       "      <td>0.806955</td>\n",
       "      <td>0.806230</td>\n",
       "      <td>0.805537</td>\n",
       "      <td>0.807027</td>\n",
       "      <td>0.806435</td>\n",
       "      <td>0.806437</td>\n",
       "      <td>0.000542</td>\n",
       "      <td>40</td>\n",
       "    </tr>\n",
       "    <tr>\n",
       "      <th>31</th>\n",
       "      <td>24.242889</td>\n",
       "      <td>0.176932</td>\n",
       "      <td>1.618132</td>\n",
       "      <td>0.057921</td>\n",
       "      <td>25</td>\n",
       "      <td>10</td>\n",
       "      <td>{'max_depth': 25, 'n_estimators': 10}</td>\n",
       "      <td>0.813838</td>\n",
       "      <td>0.812800</td>\n",
       "      <td>0.812168</td>\n",
       "      <td>0.814119</td>\n",
       "      <td>0.813220</td>\n",
       "      <td>0.813229</td>\n",
       "      <td>0.000703</td>\n",
       "      <td>35</td>\n",
       "    </tr>\n",
       "    <tr>\n",
       "      <th>32</th>\n",
       "      <td>34.610988</td>\n",
       "      <td>0.289499</td>\n",
       "      <td>2.314969</td>\n",
       "      <td>0.050507</td>\n",
       "      <td>25</td>\n",
       "      <td>15</td>\n",
       "      <td>{'max_depth': 25, 'n_estimators': 15}</td>\n",
       "      <td>0.816295</td>\n",
       "      <td>0.814767</td>\n",
       "      <td>0.814290</td>\n",
       "      <td>0.816369</td>\n",
       "      <td>0.815420</td>\n",
       "      <td>0.815428</td>\n",
       "      <td>0.000821</td>\n",
       "      <td>34</td>\n",
       "    </tr>\n",
       "    <tr>\n",
       "      <th>33</th>\n",
       "      <td>113.311426</td>\n",
       "      <td>0.261481</td>\n",
       "      <td>7.242324</td>\n",
       "      <td>0.139155</td>\n",
       "      <td>25</td>\n",
       "      <td>50</td>\n",
       "      <td>{'max_depth': 25, 'n_estimators': 50}</td>\n",
       "      <td>0.819148</td>\n",
       "      <td>0.817923</td>\n",
       "      <td>0.817527</td>\n",
       "      <td>0.819718</td>\n",
       "      <td>0.818557</td>\n",
       "      <td>0.818575</td>\n",
       "      <td>0.000795</td>\n",
       "      <td>33</td>\n",
       "    </tr>\n",
       "    <tr>\n",
       "      <th>34</th>\n",
       "      <td>170.307508</td>\n",
       "      <td>0.528444</td>\n",
       "      <td>12.069673</td>\n",
       "      <td>0.170373</td>\n",
       "      <td>25</td>\n",
       "      <td>75</td>\n",
       "      <td>{'max_depth': 25, 'n_estimators': 75}</td>\n",
       "      <td>0.819546</td>\n",
       "      <td>0.818357</td>\n",
       "      <td>0.817972</td>\n",
       "      <td>0.820126</td>\n",
       "      <td>0.818953</td>\n",
       "      <td>0.818991</td>\n",
       "      <td>0.000779</td>\n",
       "      <td>32</td>\n",
       "    </tr>\n",
       "    <tr>\n",
       "      <th>35</th>\n",
       "      <td>226.690602</td>\n",
       "      <td>0.959313</td>\n",
       "      <td>16.718886</td>\n",
       "      <td>0.720031</td>\n",
       "      <td>25</td>\n",
       "      <td>100</td>\n",
       "      <td>{'max_depth': 25, 'n_estimators': 100}</td>\n",
       "      <td>0.819860</td>\n",
       "      <td>0.818493</td>\n",
       "      <td>0.818290</td>\n",
       "      <td>0.820343</td>\n",
       "      <td>0.819242</td>\n",
       "      <td>0.819246</td>\n",
       "      <td>0.000782</td>\n",
       "      <td>31</td>\n",
       "    </tr>\n",
       "    <tr>\n",
       "      <th>36</th>\n",
       "      <td>12.086871</td>\n",
       "      <td>0.108225</td>\n",
       "      <td>0.853053</td>\n",
       "      <td>0.045368</td>\n",
       "      <td>30</td>\n",
       "      <td>5</td>\n",
       "      <td>{'max_depth': 30, 'n_estimators': 5}</td>\n",
       "      <td>0.799736</td>\n",
       "      <td>0.798475</td>\n",
       "      <td>0.798006</td>\n",
       "      <td>0.799872</td>\n",
       "      <td>0.798576</td>\n",
       "      <td>0.798933</td>\n",
       "      <td>0.000738</td>\n",
       "      <td>42</td>\n",
       "    </tr>\n",
       "    <tr>\n",
       "      <th>37</th>\n",
       "      <td>23.653325</td>\n",
       "      <td>0.179132</td>\n",
       "      <td>1.676250</td>\n",
       "      <td>0.069343</td>\n",
       "      <td>30</td>\n",
       "      <td>10</td>\n",
       "      <td>{'max_depth': 30, 'n_estimators': 10}</td>\n",
       "      <td>0.807003</td>\n",
       "      <td>0.805754</td>\n",
       "      <td>0.805183</td>\n",
       "      <td>0.806952</td>\n",
       "      <td>0.805993</td>\n",
       "      <td>0.806177</td>\n",
       "      <td>0.000705</td>\n",
       "      <td>41</td>\n",
       "    </tr>\n",
       "    <tr>\n",
       "      <th>38</th>\n",
       "      <td>34.843670</td>\n",
       "      <td>0.370826</td>\n",
       "      <td>2.441555</td>\n",
       "      <td>0.101391</td>\n",
       "      <td>30</td>\n",
       "      <td>15</td>\n",
       "      <td>{'max_depth': 30, 'n_estimators': 15}</td>\n",
       "      <td>0.809474</td>\n",
       "      <td>0.807958</td>\n",
       "      <td>0.807605</td>\n",
       "      <td>0.809298</td>\n",
       "      <td>0.808324</td>\n",
       "      <td>0.808532</td>\n",
       "      <td>0.000736</td>\n",
       "      <td>39</td>\n",
       "    </tr>\n",
       "    <tr>\n",
       "      <th>39</th>\n",
       "      <td>114.944172</td>\n",
       "      <td>0.653417</td>\n",
       "      <td>7.783692</td>\n",
       "      <td>0.107820</td>\n",
       "      <td>30</td>\n",
       "      <td>50</td>\n",
       "      <td>{'max_depth': 30, 'n_estimators': 50}</td>\n",
       "      <td>0.812466</td>\n",
       "      <td>0.811163</td>\n",
       "      <td>0.810851</td>\n",
       "      <td>0.812788</td>\n",
       "      <td>0.811616</td>\n",
       "      <td>0.811777</td>\n",
       "      <td>0.000743</td>\n",
       "      <td>38</td>\n",
       "    </tr>\n",
       "    <tr>\n",
       "      <th>40</th>\n",
       "      <td>174.017300</td>\n",
       "      <td>0.848903</td>\n",
       "      <td>13.741682</td>\n",
       "      <td>1.189459</td>\n",
       "      <td>30</td>\n",
       "      <td>75</td>\n",
       "      <td>{'max_depth': 30, 'n_estimators': 75}</td>\n",
       "      <td>0.812933</td>\n",
       "      <td>0.811572</td>\n",
       "      <td>0.811313</td>\n",
       "      <td>0.813259</td>\n",
       "      <td>0.812054</td>\n",
       "      <td>0.812226</td>\n",
       "      <td>0.000756</td>\n",
       "      <td>37</td>\n",
       "    </tr>\n",
       "    <tr>\n",
       "      <th>41</th>\n",
       "      <td>208.188913</td>\n",
       "      <td>15.649378</td>\n",
       "      <td>14.546061</td>\n",
       "      <td>4.015939</td>\n",
       "      <td>30</td>\n",
       "      <td>100</td>\n",
       "      <td>{'max_depth': 30, 'n_estimators': 100}</td>\n",
       "      <td>0.813236</td>\n",
       "      <td>0.811697</td>\n",
       "      <td>0.811627</td>\n",
       "      <td>0.813508</td>\n",
       "      <td>0.812349</td>\n",
       "      <td>0.812483</td>\n",
       "      <td>0.000773</td>\n",
       "      <td>36</td>\n",
       "    </tr>\n",
       "  </tbody>\n",
       "</table>\n",
       "</div>"
      ],
      "text/plain": [
       "    mean_fit_time  std_fit_time  mean_score_time  std_score_time  \\\n",
       "0        6.233104      0.107675         0.143711        0.006516   \n",
       "1       11.738039      0.111203         0.223073        0.011943   \n",
       "2       17.560186      0.133086         0.265459        0.014684   \n",
       "3       58.208812      0.240408         0.676648        0.039062   \n",
       "4       86.454514      0.887566         0.960724        0.051237   \n",
       "5      112.305564      1.236964         1.238544        0.056919   \n",
       "6       10.167020      0.249987         0.230475        0.007455   \n",
       "7       19.355752      0.203591         0.373707        0.010403   \n",
       "8       28.040478      0.180063         0.483786        0.027682   \n",
       "9       92.806331      0.453455         1.381551        0.055798   \n",
       "10     137.035786      1.117772         1.976171        0.037952   \n",
       "11     179.192687      1.358733         2.387480        0.106826   \n",
       "12      10.769496      0.123859         0.272249        0.011284   \n",
       "13      20.480561      0.170717         0.442941        0.018452   \n",
       "14      29.911042      0.369249         0.556464        0.041236   \n",
       "15      98.204920      0.226023         1.684415        0.066196   \n",
       "16     145.929383      1.310477         2.399943        0.121078   \n",
       "17     189.614091      2.037652         3.297426        0.028503   \n",
       "18      11.240561      0.267472         0.395296        0.023539   \n",
       "19      22.059519      0.137293         0.600416        0.032413   \n",
       "20      31.348447      0.554606         0.877820        0.028732   \n",
       "21     103.548211      0.581491         2.668215        0.075787   \n",
       "22     153.749855      0.810030         3.889133        0.090969   \n",
       "23     202.507062      0.984850         4.834917        0.236356   \n",
       "24      11.589578      0.343972         0.505146        0.032008   \n",
       "25      22.612287      0.178315         0.942517        0.043159   \n",
       "26      32.417800      0.510129         1.294796        0.076406   \n",
       "27     109.423082      0.319086         4.122267        0.058421   \n",
       "28     161.350258      1.160586         6.176589        0.134451   \n",
       "29     210.871156      2.846102         7.515308        0.084330   \n",
       "30      12.268801      0.228117         0.856956        0.063935   \n",
       "31      24.242889      0.176932         1.618132        0.057921   \n",
       "32      34.610988      0.289499         2.314969        0.050507   \n",
       "33     113.311426      0.261481         7.242324        0.139155   \n",
       "34     170.307508      0.528444        12.069673        0.170373   \n",
       "35     226.690602      0.959313        16.718886        0.720031   \n",
       "36      12.086871      0.108225         0.853053        0.045368   \n",
       "37      23.653325      0.179132         1.676250        0.069343   \n",
       "38      34.843670      0.370826         2.441555        0.101391   \n",
       "39     114.944172      0.653417         7.783692        0.107820   \n",
       "40     174.017300      0.848903        13.741682        1.189459   \n",
       "41     208.188913     15.649378        14.546061        4.015939   \n",
       "\n",
       "   param_max_depth param_n_estimators                                  params  \\\n",
       "0                5                  5     {'max_depth': 5, 'n_estimators': 5}   \n",
       "1                5                 10    {'max_depth': 5, 'n_estimators': 10}   \n",
       "2                5                 15    {'max_depth': 5, 'n_estimators': 15}   \n",
       "3                5                 50    {'max_depth': 5, 'n_estimators': 50}   \n",
       "4                5                 75    {'max_depth': 5, 'n_estimators': 75}   \n",
       "5                5                100   {'max_depth': 5, 'n_estimators': 100}   \n",
       "6               10                  5    {'max_depth': 10, 'n_estimators': 5}   \n",
       "7               10                 10   {'max_depth': 10, 'n_estimators': 10}   \n",
       "8               10                 15   {'max_depth': 10, 'n_estimators': 15}   \n",
       "9               10                 50   {'max_depth': 10, 'n_estimators': 50}   \n",
       "10              10                 75   {'max_depth': 10, 'n_estimators': 75}   \n",
       "11              10                100  {'max_depth': 10, 'n_estimators': 100}   \n",
       "12              12                  5    {'max_depth': 12, 'n_estimators': 5}   \n",
       "13              12                 10   {'max_depth': 12, 'n_estimators': 10}   \n",
       "14              12                 15   {'max_depth': 12, 'n_estimators': 15}   \n",
       "15              12                 50   {'max_depth': 12, 'n_estimators': 50}   \n",
       "16              12                 75   {'max_depth': 12, 'n_estimators': 75}   \n",
       "17              12                100  {'max_depth': 12, 'n_estimators': 100}   \n",
       "18              15                  5    {'max_depth': 15, 'n_estimators': 5}   \n",
       "19              15                 10   {'max_depth': 15, 'n_estimators': 10}   \n",
       "20              15                 15   {'max_depth': 15, 'n_estimators': 15}   \n",
       "21              15                 50   {'max_depth': 15, 'n_estimators': 50}   \n",
       "22              15                 75   {'max_depth': 15, 'n_estimators': 75}   \n",
       "23              15                100  {'max_depth': 15, 'n_estimators': 100}   \n",
       "24              18                  5    {'max_depth': 18, 'n_estimators': 5}   \n",
       "25              18                 10   {'max_depth': 18, 'n_estimators': 10}   \n",
       "26              18                 15   {'max_depth': 18, 'n_estimators': 15}   \n",
       "27              18                 50   {'max_depth': 18, 'n_estimators': 50}   \n",
       "28              18                 75   {'max_depth': 18, 'n_estimators': 75}   \n",
       "29              18                100  {'max_depth': 18, 'n_estimators': 100}   \n",
       "30              25                  5    {'max_depth': 25, 'n_estimators': 5}   \n",
       "31              25                 10   {'max_depth': 25, 'n_estimators': 10}   \n",
       "32              25                 15   {'max_depth': 25, 'n_estimators': 15}   \n",
       "33              25                 50   {'max_depth': 25, 'n_estimators': 50}   \n",
       "34              25                 75   {'max_depth': 25, 'n_estimators': 75}   \n",
       "35              25                100  {'max_depth': 25, 'n_estimators': 100}   \n",
       "36              30                  5    {'max_depth': 30, 'n_estimators': 5}   \n",
       "37              30                 10   {'max_depth': 30, 'n_estimators': 10}   \n",
       "38              30                 15   {'max_depth': 30, 'n_estimators': 15}   \n",
       "39              30                 50   {'max_depth': 30, 'n_estimators': 50}   \n",
       "40              30                 75   {'max_depth': 30, 'n_estimators': 75}   \n",
       "41              30                100  {'max_depth': 30, 'n_estimators': 100}   \n",
       "\n",
       "    split0_test_score  split1_test_score  split2_test_score  \\\n",
       "0            0.827191           0.826452           0.827079   \n",
       "1            0.828105           0.826859           0.827663   \n",
       "2            0.828030           0.827935           0.827566   \n",
       "3            0.827619           0.827980           0.827558   \n",
       "4            0.827592           0.827933           0.827640   \n",
       "5            0.827611           0.827843           0.827747   \n",
       "6            0.845532           0.844597           0.844935   \n",
       "7            0.845848           0.845077           0.845180   \n",
       "8            0.845980           0.845205           0.845317   \n",
       "9            0.846094           0.845351           0.845363   \n",
       "10           0.846112           0.845360           0.845354   \n",
       "11           0.846129           0.845355           0.845381   \n",
       "12           0.844533           0.843847           0.844122   \n",
       "13           0.845462           0.844675           0.844653   \n",
       "14           0.845706           0.844992           0.844879   \n",
       "15           0.846057           0.845263           0.845138   \n",
       "16           0.846083           0.845313           0.845162   \n",
       "17           0.846124           0.845306           0.845200   \n",
       "18           0.839757           0.839535           0.839312   \n",
       "19           0.842167           0.841727           0.841190   \n",
       "20           0.842830           0.842321           0.841875   \n",
       "21           0.843881           0.843143           0.842799   \n",
       "22           0.844005           0.843266           0.842945   \n",
       "23           0.844113           0.843322           0.842989   \n",
       "24           0.831224           0.830795           0.830093   \n",
       "25           0.835305           0.834644           0.833724   \n",
       "26           0.836664           0.835748           0.834962   \n",
       "27           0.838505           0.837505           0.836966   \n",
       "28           0.838664           0.837718           0.837303   \n",
       "29           0.838805           0.837836           0.837471   \n",
       "30           0.806955           0.806230           0.805537   \n",
       "31           0.813838           0.812800           0.812168   \n",
       "32           0.816295           0.814767           0.814290   \n",
       "33           0.819148           0.817923           0.817527   \n",
       "34           0.819546           0.818357           0.817972   \n",
       "35           0.819860           0.818493           0.818290   \n",
       "36           0.799736           0.798475           0.798006   \n",
       "37           0.807003           0.805754           0.805183   \n",
       "38           0.809474           0.807958           0.807605   \n",
       "39           0.812466           0.811163           0.810851   \n",
       "40           0.812933           0.811572           0.811313   \n",
       "41           0.813236           0.811697           0.811627   \n",
       "\n",
       "    split3_test_score  split4_test_score  mean_test_score  std_test_score  \\\n",
       "0            0.828245           0.828142         0.827422        0.000679   \n",
       "1            0.829139           0.828728         0.828099        0.000801   \n",
       "2            0.829760           0.829087         0.828476        0.000817   \n",
       "3            0.829662           0.828889         0.828342        0.000814   \n",
       "4            0.829773           0.828836         0.828355        0.000838   \n",
       "5            0.829725           0.828718         0.828329        0.000799   \n",
       "6            0.846575           0.845772         0.845482        0.000688   \n",
       "7            0.846834           0.846215         0.845831        0.000655   \n",
       "8            0.846954           0.846304         0.845952        0.000646   \n",
       "9            0.847119           0.846466         0.846078        0.000675   \n",
       "10           0.847133           0.846508         0.846093        0.000684   \n",
       "11           0.847138           0.846509         0.846102        0.000681   \n",
       "12           0.845597           0.844800         0.844580        0.000605   \n",
       "13           0.846376           0.845702         0.845374        0.000652   \n",
       "14           0.846670           0.845948         0.845639        0.000657   \n",
       "15           0.847002           0.846387         0.845969        0.000698   \n",
       "16           0.847034           0.846431         0.846005        0.000698   \n",
       "17           0.847051           0.846440         0.846024        0.000698   \n",
       "18           0.840909           0.840403         0.839983        0.000589   \n",
       "19           0.843102           0.842350         0.842107        0.000638   \n",
       "20           0.843832           0.843146         0.842801        0.000674   \n",
       "21           0.844791           0.844161         0.843755        0.000713   \n",
       "22           0.844927           0.844274         0.843883        0.000710   \n",
       "23           0.844976           0.844348         0.843949        0.000715   \n",
       "24           0.831823           0.831025         0.830992        0.000564   \n",
       "25           0.836019           0.835106         0.834960        0.000760   \n",
       "26           0.837416           0.836319         0.836222        0.000830   \n",
       "27           0.839228           0.838217         0.838084        0.000786   \n",
       "28           0.839462           0.838476         0.838324        0.000754   \n",
       "29           0.839563           0.838670         0.838469        0.000741   \n",
       "30           0.807027           0.806435         0.806437        0.000542   \n",
       "31           0.814119           0.813220         0.813229        0.000703   \n",
       "32           0.816369           0.815420         0.815428        0.000821   \n",
       "33           0.819718           0.818557         0.818575        0.000795   \n",
       "34           0.820126           0.818953         0.818991        0.000779   \n",
       "35           0.820343           0.819242         0.819246        0.000782   \n",
       "36           0.799872           0.798576         0.798933        0.000738   \n",
       "37           0.806952           0.805993         0.806177        0.000705   \n",
       "38           0.809298           0.808324         0.808532        0.000736   \n",
       "39           0.812788           0.811616         0.811777        0.000743   \n",
       "40           0.813259           0.812054         0.812226        0.000756   \n",
       "41           0.813508           0.812349         0.812483        0.000773   \n",
       "\n",
       "    rank_test_score  \n",
       "0                30  \n",
       "1                29  \n",
       "2                25  \n",
       "3                27  \n",
       "4                26  \n",
       "5                28  \n",
       "6                10  \n",
       "7                 8  \n",
       "8                 7  \n",
       "9                 3  \n",
       "10                2  \n",
       "11                1  \n",
       "12               12  \n",
       "13               11  \n",
       "14                9  \n",
       "15                6  \n",
       "16                5  \n",
       "17                4  \n",
       "18               18  \n",
       "19               17  \n",
       "20               16  \n",
       "21               15  \n",
       "22               14  \n",
       "23               13  \n",
       "24               24  \n",
       "25               23  \n",
       "26               22  \n",
       "27               21  \n",
       "28               20  \n",
       "29               19  \n",
       "30               40  \n",
       "31               35  \n",
       "32               34  \n",
       "33               33  \n",
       "34               32  \n",
       "35               31  \n",
       "36               42  \n",
       "37               41  \n",
       "38               39  \n",
       "39               38  \n",
       "40               37  \n",
       "41               36  "
      ]
     },
     "execution_count": 27,
     "metadata": {},
     "output_type": "execute_result"
    }
   ],
   "source": [
    "grid_search_result = pd.DataFrame(gs.cv_results_)\n",
    "grid_search_result"
   ]
  },
  {
   "cell_type": "code",
   "execution_count": 32,
   "metadata": {},
   "outputs": [
    {
     "data": {
      "text/html": [
       "<div>\n",
       "<style scoped>\n",
       "    .dataframe tbody tr th:only-of-type {\n",
       "        vertical-align: middle;\n",
       "    }\n",
       "\n",
       "    .dataframe tbody tr th {\n",
       "        vertical-align: top;\n",
       "    }\n",
       "\n",
       "    .dataframe thead th {\n",
       "        text-align: right;\n",
       "    }\n",
       "</style>\n",
       "<table border=\"1\" class=\"dataframe\">\n",
       "  <thead>\n",
       "    <tr style=\"text-align: right;\">\n",
       "      <th></th>\n",
       "      <th>mean_fit_time</th>\n",
       "      <th>std_fit_time</th>\n",
       "      <th>mean_score_time</th>\n",
       "      <th>std_score_time</th>\n",
       "      <th>param_max_depth</th>\n",
       "      <th>param_n_estimators</th>\n",
       "      <th>params</th>\n",
       "      <th>split0_test_score</th>\n",
       "      <th>split1_test_score</th>\n",
       "      <th>split2_test_score</th>\n",
       "      <th>split3_test_score</th>\n",
       "      <th>split4_test_score</th>\n",
       "      <th>mean_test_score</th>\n",
       "      <th>std_test_score</th>\n",
       "      <th>rank_test_score</th>\n",
       "    </tr>\n",
       "  </thead>\n",
       "  <tbody>\n",
       "    <tr>\n",
       "      <th>11</th>\n",
       "      <td>179.192687</td>\n",
       "      <td>1.358733</td>\n",
       "      <td>2.38748</td>\n",
       "      <td>0.106826</td>\n",
       "      <td>10</td>\n",
       "      <td>100</td>\n",
       "      <td>{'max_depth': 10, 'n_estimators': 100}</td>\n",
       "      <td>0.846129</td>\n",
       "      <td>0.845355</td>\n",
       "      <td>0.845381</td>\n",
       "      <td>0.847138</td>\n",
       "      <td>0.846509</td>\n",
       "      <td>0.846102</td>\n",
       "      <td>0.000681</td>\n",
       "      <td>1</td>\n",
       "    </tr>\n",
       "  </tbody>\n",
       "</table>\n",
       "</div>"
      ],
      "text/plain": [
       "    mean_fit_time  std_fit_time  mean_score_time  std_score_time  \\\n",
       "11     179.192687      1.358733          2.38748        0.106826   \n",
       "\n",
       "   param_max_depth param_n_estimators                                  params  \\\n",
       "11              10                100  {'max_depth': 10, 'n_estimators': 100}   \n",
       "\n",
       "    split0_test_score  split1_test_score  split2_test_score  \\\n",
       "11           0.846129           0.845355           0.845381   \n",
       "\n",
       "    split3_test_score  split4_test_score  mean_test_score  std_test_score  \\\n",
       "11           0.847138           0.846509         0.846102        0.000681   \n",
       "\n",
       "    rank_test_score  \n",
       "11                1  "
      ]
     },
     "execution_count": 32,
     "metadata": {},
     "output_type": "execute_result"
    }
   ],
   "source": [
    "grid_search_result[grid_search_result.mean_test_score >= grid_search_result.mean_test_score.max()]"
   ]
  },
  {
   "cell_type": "code",
   "execution_count": 35,
   "metadata": {},
   "outputs": [
    {
     "name": "stdout",
     "output_type": "stream",
     "text": [
      "Best test score      : 0.8461022002881495\n",
      "Best hyperparameters : {'max_depth': 10, 'n_estimators': 100}\n",
      "Best regressor model : RandomForestRegressor(bootstrap=True, criterion='mse', max_depth=10,\n",
      "                      max_features='auto', max_leaf_nodes=None,\n",
      "                      min_impurity_decrease=0.0, min_impurity_split=None,\n",
      "                      min_samples_leaf=1, min_samples_split=2,\n",
      "                      min_weight_fraction_leaf=0.0, n_estimators=100,\n",
      "                      n_jobs=None, oob_score=False, random_state=7, verbose=0,\n",
      "                      warm_start=False)\n",
      "Accuracy             : 84.61%\n"
     ]
    }
   ],
   "source": [
    "print(f\"Best test score      : {gs.best_score_}\")\n",
    "print(f\"Best hyperparameters : {gs.best_params_}\")\n",
    "print(f\"Best regressor model : {gs.best_estimator_}\")\n",
    "print(f\"Accuracy             : {gs.best_score_ * 100:.2f}%\")"
   ]
  },
  {
   "cell_type": "markdown",
   "metadata": {},
   "source": [
    "From the Grid Search, **n_estimators=100 (Number of decision trees in the Forest), max_depth=10 (Maximum depth of each decision tree)** are found to be the best hyperparameters for our **RandomForestRegressor** model."
   ]
  },
  {
   "cell_type": "code",
   "execution_count": 105,
   "metadata": {},
   "outputs": [
    {
     "data": {
      "text/plain": [
       "{'max_depth': 10, 'n_estimators': 100, 'random_state': 7, 'n_jobs': 4}"
      ]
     },
     "execution_count": 105,
     "metadata": {},
     "output_type": "execute_result"
    }
   ],
   "source": [
    "best_regressor = gs.best_estimator_\n",
    "best_hyperparameters = gs.best_params_.copy()\n",
    "best_hyperparameters[\"random_state\"] = 7\n",
    "best_hyperparameters[\"n_jobs\"] = 4\n",
    "best_hyperparameters"
   ]
  },
  {
   "cell_type": "code",
   "execution_count": 106,
   "metadata": {},
   "outputs": [],
   "source": [
    "def plot_grid_search(cv_results, grid_param_1, grid_param_2, name_param_1, name_param_2):\n",
    "    # Get Test Scores Mean and std for each grid search\n",
    "    scores_mean = cv_results['mean_test_score']\n",
    "    scores_mean = np.array(scores_mean).reshape(len(grid_param_2), len(grid_param_1))\n",
    "\n",
    "    scores_sd = cv_results['std_test_score']\n",
    "    scores_sd = np.array(scores_sd).reshape(len(grid_param_2), len(grid_param_1))\n",
    "    \n",
    "    # Plot Grid search scores\n",
    "    _, ax = plt.subplots(1, 1, figsize=(22, 11))\n",
    "\n",
    "    # Param1 is the X-axis, Param 2 is represented as a different curve (color line)\n",
    "    for idx, val in enumerate(grid_param_2):\n",
    "        ax.plot(grid_param_1, scores_mean[idx,:], '-o', label= name_param_2 + ': ' + str(val))\n",
    "\n",
    "    ax.set_title(\"Grid Search Scores\", fontsize=20, fontweight='bold')\n",
    "    ax.set_xlabel(name_param_1, fontsize=16)\n",
    "    ax.set_ylabel('CV Average Score', fontsize=16)\n",
    "    ax.legend(loc=\"best\", fontsize=15)\n",
    "    ax.grid('on')"
   ]
  },
  {
   "cell_type": "code",
   "execution_count": 107,
   "metadata": {},
   "outputs": [
    {
     "data": {
      "image/png": "[encoded data removed]",
      "text/plain": [
       "<Figure size 1584x792 with 1 Axes>"
      ]
     },
     "metadata": {},
     "output_type": "display_data"
    }
   ],
   "source": [
    "plot_grid_search(\n",
    "    gs.cv_results_, \n",
    "    parameters.get(\"n_estimators\"), \n",
    "    parameters.get(\"max_depth\"), \n",
    "    \"n_estimators\", \n",
    "    \"max_depth\"\n",
    ")"
   ]
  },
  {
   "cell_type": "code",
   "execution_count": 108,
   "metadata": {},
   "outputs": [],
   "source": [
    "def plot_learning_curve(estimator, title, X, y, ylim=None, cv=None,\n",
    "                        n_jobs=None, train_sizes=np.linspace(.1, 1.0, 5)):\n",
    "    \"\"\"\n",
    "    Generate a simple plot of the test and training learning curve.\n",
    "\n",
    "    Parameters\n",
    "    ----------\n",
    "    estimator : object type that implements the \"fit\" and \"predict\" methods\n",
    "        An object of that type which is cloned for each validation.\n",
    "\n",
    "    title : string\n",
    "        Title for the chart.\n",
    "\n",
    "    X : array-like, shape (n_samples, n_features)\n",
    "        Training vector, where n_samples is the number of samples and\n",
    "        n_features is the number of features.\n",
    "\n",
    "    y : array-like, shape (n_samples) or (n_samples, n_features), optional\n",
    "        Target relative to X for classification or regression;\n",
    "        None for unsupervised learning.\n",
    "\n",
    "    ylim : tuple, shape (ymin, ymax), optional\n",
    "        Defines minimum and maximum yvalues plotted.\n",
    "\n",
    "    cv : int, cross-validation generator or an iterable, optional\n",
    "        Determines the cross-validation splitting strategy.\n",
    "        Possible inputs for cv are:\n",
    "          - None, to use the default 3-fold cross-validation,\n",
    "          - integer, to specify the number of folds.\n",
    "          - :term:`CV splitter`,\n",
    "          - An iterable yielding (train, test) splits as arrays of indices.\n",
    "\n",
    "        For integer/None inputs, if ``y`` is binary or multiclass,\n",
    "        :class:`StratifiedKFold` used. If the estimator is not a classifier\n",
    "        or if ``y`` is neither binary nor multiclass, :class:`KFold` is used.\n",
    "\n",
    "        Refer :ref:`User Guide <cross_validation>` for the various\n",
    "        cross-validators that can be used here.\n",
    "\n",
    "    n_jobs : int or None, optional (default=None)\n",
    "        Number of jobs to run in parallel.\n",
    "        ``None`` means 1 unless in a :obj:`joblib.parallel_backend` context.\n",
    "        ``-1`` means using all processors. See :term:`Glossary <n_jobs>`\n",
    "        for more details.\n",
    "\n",
    "    train_sizes : array-like, shape (n_ticks,), dtype float or int\n",
    "        Relative or absolute numbers of training examples that will be used to\n",
    "        generate the learning curve. If the dtype is float, it is regarded as a\n",
    "        fraction of the maximum size of the training set (that is determined\n",
    "        by the selected validation method), i.e. it has to be within (0, 1].\n",
    "        Otherwise it is interpreted as absolute sizes of the training sets.\n",
    "        Note that for classification the number of samples usually have to\n",
    "        be big enough to contain at least one sample from each class.\n",
    "        (default: np.linspace(0.1, 1.0, 5))\n",
    "    \"\"\"\n",
    "    plt.figure(figsize=[15, 10])\n",
    "    plt.title(title)\n",
    "    if ylim is not None:\n",
    "        plt.ylim(*ylim)\n",
    "    plt.xlabel(\"Training examples\")\n",
    "    plt.ylabel(\"Score\")\n",
    "    train_sizes, train_scores, test_scores = learning_curve(\n",
    "        estimator, X, y, cv=cv, n_jobs=n_jobs, train_sizes=train_sizes)\n",
    "    train_scores_mean = np.mean(train_scores, axis=1)\n",
    "    train_scores_std = np.std(train_scores, axis=1)\n",
    "    test_scores_mean = np.mean(test_scores, axis=1)\n",
    "    test_scores_std = np.std(test_scores, axis=1)\n",
    "    plt.grid()\n",
    "\n",
    "    plt.fill_between(train_sizes, train_scores_mean - train_scores_std,\n",
    "                     train_scores_mean + train_scores_std, alpha=0.1,\n",
    "                     color=\"r\")\n",
    "    plt.fill_between(train_sizes, test_scores_mean - test_scores_std,\n",
    "                     test_scores_mean + test_scores_std, alpha=0.1, color=\"g\")\n",
    "    plt.plot(train_sizes, train_scores_mean, 'o-', color=\"r\",\n",
    "             label=\"Training score\")\n",
    "    plt.plot(train_sizes, test_scores_mean, 'o-', color=\"g\",\n",
    "             label=\"Cross-validation score\")\n",
    "\n",
    "    plt.legend(loc=\"best\")\n",
    "    return plt"
   ]
  },
  {
   "cell_type": "code",
   "execution_count": 101,
   "metadata": {},
   "outputs": [
    {
     "data": {
      "image/png": "[encoded data removed]",
      "text/plain": [
       "<Figure size 1080x720 with 1 Axes>"
      ]
     },
     "metadata": {},
     "output_type": "display_data"
    },
    {
     "name": "stdout",
     "output_type": "stream",
     "text": [
      "CPU times: user 1.37 s, sys: 290 ms, total: 1.66 s\n",
      "Wall time: 5min 50s\n"
     ]
    }
   ],
   "source": [
    "%%time\n",
    "graph = plot_learning_curve(\n",
    "    best_regressor,\n",
    "    \"Learning Curve for RandomForestRegressor\",\n",
    "    features,\n",
    "    target,\n",
    "    cv=5,\n",
    "    n_jobs=8\n",
    ")\n",
    "graph.show()"
   ]
  },
  {
   "cell_type": "markdown",
   "metadata": {},
   "source": [
    "## Building ML pipeline"
   ]
  },
  {
   "cell_type": "code",
   "execution_count": 5,
   "metadata": {},
   "outputs": [
    {
     "data": {
      "text/plain": [
       "{'max_depth': 10, 'n_estimators': 100, 'random_state': 7, 'n_jobs': 4}"
      ]
     },
     "execution_count": 5,
     "metadata": {},
     "output_type": "execute_result"
    }
   ],
   "source": [
    "best_hyperparameters = {'max_depth': 10, 'n_estimators': 100, 'random_state': 7, 'n_jobs': 4}\n",
    "best_hyperparameters"
   ]
  },
  {
   "cell_type": "code",
   "execution_count": 6,
   "metadata": {},
   "outputs": [],
   "source": [
    "pipeline = Pipeline([\n",
    "    (\"scaler\", RobustScaler()),\n",
    "    (\"regressor\", RandomForestRegressor(**best_hyperparameters))\n",
    "])"
   ]
  },
  {
   "cell_type": "code",
   "execution_count": 7,
   "metadata": {},
   "outputs": [],
   "source": [
    "target = df.FARE\n",
    "features = df.drop(\"FARE\", axis=1)\n",
    "x_train, x_test, y_train, y_test = train_test_split(features, target, test_size=0.1, random_state=0)"
   ]
  },
  {
   "cell_type": "code",
   "execution_count": 8,
   "metadata": {},
   "outputs": [
    {
     "name": "stdout",
     "output_type": "stream",
     "text": [
      "CPU times: user 2min 2s, sys: 712 ms, total: 2min 3s\n",
      "Wall time: 31.2 s\n"
     ]
    },
    {
     "data": {
      "text/plain": [
       "Pipeline(memory=None,\n",
       "         steps=[('scaler',\n",
       "                 RobustScaler(copy=True, quantile_range=(25.0, 75.0),\n",
       "                              with_centering=True, with_scaling=True)),\n",
       "                ('regressor',\n",
       "                 RandomForestRegressor(bootstrap=True, criterion='mse',\n",
       "                                       max_depth=10, max_features='auto',\n",
       "                                       max_leaf_nodes=None,\n",
       "                                       min_impurity_decrease=0.0,\n",
       "                                       min_impurity_split=None,\n",
       "                                       min_samples_leaf=1, min_samples_split=2,\n",
       "                                       min_weight_fraction_leaf=0.0,\n",
       "                                       n_estimators=100, n_jobs=4,\n",
       "                                       oob_score=False, random_state=7,\n",
       "                                       verbose=0, warm_start=False))],\n",
       "         verbose=False)"
      ]
     },
     "execution_count": 8,
     "metadata": {},
     "output_type": "execute_result"
    }
   ],
   "source": [
    "%%time\n",
    "pipeline.fit(x_train, y_train)"
   ]
  },
  {
   "cell_type": "code",
   "execution_count": 9,
   "metadata": {},
   "outputs": [
    {
     "name": "stdout",
     "output_type": "stream",
     "text": [
      "CPU times: user 755 ms, sys: 17.6 ms, total: 772 ms\n",
      "Wall time: 251 ms\n"
     ]
    }
   ],
   "source": [
    "%%time\n",
    "y_pred = pipeline.predict(x_test)"
   ]
  },
  {
   "cell_type": "code",
   "execution_count": 10,
   "metadata": {},
   "outputs": [
    {
     "name": "stdout",
     "output_type": "stream",
     "text": [
      "Accuracy Score: 84.55%\n",
      "\n",
      "CPU times: user 758 ms, sys: 9.52 ms, total: 767 ms\n",
      "Wall time: 253 ms\n"
     ]
    }
   ],
   "source": [
    "%%time\n",
    "score = pipeline.score(x_test, y_test)\n",
    "print(f\"Accuracy Score: {score * 100:.2f}%\\n\")"
   ]
  },
  {
   "cell_type": "code",
   "execution_count": 11,
   "metadata": {},
   "outputs": [
    {
     "name": "stdout",
     "output_type": "stream",
     "text": [
      "Mean Absolute Error     : 2.15\n",
      "Root Mean Squared Error : 10.70\n",
      "R^2 Score               : 0.85\n",
      "\n",
      "CPU times: user 3.17 ms, sys: 1.47 ms, total: 4.64 ms\n",
      "Wall time: 4.32 ms\n"
     ]
    }
   ],
   "source": [
    "%%time\n",
    "r2 = r2_score(y_true=y_test, y_pred=y_pred)\n",
    "rmse = mean_squared_error(y_true=y_test, y_pred=y_pred)\n",
    "mae = mean_absolute_error(y_true=y_test, y_pred=y_pred)\n",
    "print(f\"Mean Absolute Error     : {mae:.2f}\")\n",
    "print(f\"Root Mean Squared Error : {rmse:.2f}\")\n",
    "print(f\"R^2 Score               : {r2:.2f}\\n\")"
   ]
  },
  {
   "cell_type": "markdown",
   "metadata": {},
   "source": [
    "### Prediction of user data"
   ]
  },
  {
   "cell_type": "code",
   "execution_count": 128,
   "metadata": {},
   "outputs": [],
   "source": [
    "user_data = [\n",
    "    [801, 3.2, 0, 1],\n",
    "    [801, 3.2, 1, 2],\n",
    "    [250, 1.2, 0, 1],\n",
    "    [345, 1.5, 1, 4]\n",
    "]"
   ]
  },
  {
   "cell_type": "code",
   "execution_count": 129,
   "metadata": {},
   "outputs": [
    {
     "data": {
      "text/plain": [
       "array([11.33612976,  7.42676163,  7.91064491,  3.89534813])"
      ]
     },
     "execution_count": 129,
     "metadata": {},
     "output_type": "execute_result"
    }
   ],
   "source": [
    "pipeline.predict(user_data)"
   ]
  },
  {
   "cell_type": "code",
   "execution_count": 145,
   "metadata": {},
   "outputs": [],
   "source": [
    "sub = df[(df.DISTANCE == 3.2) & (df.DURATION >= 447) & (df.DURATION <= 450) & (df.IS_POOLED == 1) & (df.TRIPS_POOLED == 4)]"
   ]
  },
  {
   "cell_type": "code",
   "execution_count": 146,
   "metadata": {},
   "outputs": [
    {
     "data": {
      "text/plain": [
       "5.05"
      ]
     },
     "execution_count": 146,
     "metadata": {},
     "output_type": "execute_result"
    }
   ],
   "source": [
    "sub.FARE.mean()"
   ]
  },
  {
   "cell_type": "code",
   "execution_count": 12,
   "metadata": {},
   "outputs": [],
   "source": [
    "user_data = [\n",
    "    [801, 3.2, False, 1],\n",
    "    [801, 3.2, True, 2],\n",
    "    [250, 1.2, False, 1],\n",
    "    [345, 1.5, True, 4]\n",
    "]"
   ]
  },
  {
   "cell_type": "code",
   "execution_count": 13,
   "metadata": {},
   "outputs": [
    {
     "data": {
      "text/plain": [
       "array([11.33612976,  7.42676163,  7.91064491,  3.89534813])"
      ]
     },
     "execution_count": 13,
     "metadata": {},
     "output_type": "execute_result"
    }
   ],
   "source": [
    "pipeline.predict(user_data)"
   ]
  },
  {
   "cell_type": "markdown",
   "metadata": {},
   "source": [
    "## Exporting the pipeline be persistent"
   ]
  },
  {
   "cell_type": "code",
   "execution_count": 149,
   "metadata": {},
   "outputs": [],
   "source": [
    "from pickle import dump"
   ]
  },
  {
   "cell_type": "code",
   "execution_count": 150,
   "metadata": {},
   "outputs": [],
   "source": [
    "with open(\"fare_model.pkl\", \"wb\") as fp:\n",
    "    dump(pipeline, fp)"
   ]
  },
  {
   "cell_type": "code",
   "execution_count": 151,
   "metadata": {},
   "outputs": [],
   "source": [
    "from joblib import dump"
   ]
  },
  {
   "cell_type": "code",
   "execution_count": 152,
   "metadata": {},
   "outputs": [
    {
     "data": {
      "text/plain": [
       "['fare_model.joblib']"
      ]
     },
     "execution_count": 152,
     "metadata": {},
     "output_type": "execute_result"
    }
   ],
   "source": [
    "dump(pipeline, \"fare_model.joblib\", compress=9)"
   ]
  },
  {
   "cell_type": "code",
   "execution_count": 170,
   "metadata": {},
   "outputs": [
    {
     "data": {
      "text/plain": [
       "['fare_model.lzma']"
      ]
     },
     "execution_count": 170,
     "metadata": {},
     "output_type": "execute_result"
    }
   ],
   "source": [
    "dump(pipeline, \"fare_model.lzma\", compress=(\"lzma\", 9))"
   ]
  },
  {
   "cell_type": "markdown",
   "metadata": {},
   "source": [
    "## Exporting pipeline to open format PMML"
   ]
  },
  {
   "cell_type": "code",
   "execution_count": 15,
   "metadata": {},
   "outputs": [],
   "source": [
    "from sklearn2pmml import PMMLPipeline\n",
    "from sklearn2pmml import sklearn2pmml"
   ]
  },
  {
   "cell_type": "code",
   "execution_count": 7,
   "metadata": {},
   "outputs": [],
   "source": [
    "pmml_pipeline = PMMLPipeline([\n",
    "    (\"scaler\", RobustScaler()),\n",
    "    (\"regressor\", RandomForestRegressor(**{'max_depth': 10, 'n_estimators': 100, 'random_state': 7, 'n_jobs': 4}))\n",
    "])\n",
    "target = df.FARE\n",
    "features = df.drop(\"FARE\", axis=1)\n",
    "x_train, x_test, y_train, y_test = train_test_split(features, target, test_size=0.1, random_state=0)"
   ]
  },
  {
   "cell_type": "code",
   "execution_count": 8,
   "metadata": {},
   "outputs": [
    {
     "name": "stdout",
     "output_type": "stream",
     "text": [
      "CPU times: user 1min 58s, sys: 591 ms, total: 1min 59s\n",
      "Wall time: 30.2 s\n"
     ]
    },
    {
     "data": {
      "text/plain": [
       "PMMLPipeline(steps=[('scaler', RobustScaler(copy=True, quantile_range=(25.0, 75.0), with_centering=True,\n",
       "             with_scaling=True)),\n",
       "       ('regressor', RandomForestRegressor(bootstrap=True, criterion='mse', max_depth=10,\n",
       "                      max_features='auto', max_leaf_nodes=None,\n",
       "                      min_impurity_decrease=0.0, min_impurity_split=None,\n",
       "                      min_samples_leaf=1, min_samples_split=2,\n",
       "                      min_weight_fraction_leaf=0.0, n_estimators=100, n_jobs=4,\n",
       "                      oob_score=False, random_state=7, verbose=0,\n",
       "                      warm_start=False))])"
      ]
     },
     "execution_count": 8,
     "metadata": {},
     "output_type": "execute_result"
    }
   ],
   "source": [
    "%%time\n",
    "pmml_pipeline.fit(x_train, y_train)"
   ]
  },
  {
   "cell_type": "code",
   "execution_count": 9,
   "metadata": {},
   "outputs": [
    {
     "name": "stdout",
     "output_type": "stream",
     "text": [
      "CPU times: user 763 ms, sys: 21.1 ms, total: 784 ms\n",
      "Wall time: 263 ms\n"
     ]
    }
   ],
   "source": [
    "%%time\n",
    "y_pred = pmml_pipeline.predict(x_test)"
   ]
  },
  {
   "cell_type": "code",
   "execution_count": 10,
   "metadata": {},
   "outputs": [
    {
     "name": "stdout",
     "output_type": "stream",
     "text": [
      "Accuracy Score: 84.55%\n",
      "\n",
      "CPU times: user 739 ms, sys: 12.4 ms, total: 751 ms\n",
      "Wall time: 255 ms\n"
     ]
    }
   ],
   "source": [
    "%%time\n",
    "score = pmml_pipeline.score(x_test, y_test)\n",
    "print(f\"Accuracy Score: {score * 100:.2f}%\\n\")"
   ]
  },
  {
   "cell_type": "code",
   "execution_count": 11,
   "metadata": {},
   "outputs": [
    {
     "name": "stdout",
     "output_type": "stream",
     "text": [
      "Mean Absolute Error     : 2.15\n",
      "Root Mean Squared Error : 10.70\n",
      "R^2 Score               : 0.85\n",
      "\n",
      "CPU times: user 3 ms, sys: 1.13 ms, total: 4.13 ms\n",
      "Wall time: 3.03 ms\n"
     ]
    }
   ],
   "source": [
    "%%time\n",
    "r2 = r2_score(y_true=y_test, y_pred=y_pred)\n",
    "rmse = mean_squared_error(y_true=y_test, y_pred=y_pred)\n",
    "mae = mean_absolute_error(y_true=y_test, y_pred=y_pred)\n",
    "print(f\"Mean Absolute Error     : {mae:.2f}\")\n",
    "print(f\"Root Mean Squared Error : {rmse:.2f}\")\n",
    "print(f\"R^2 Score               : {r2:.2f}\\n\")"
   ]
  },
  {
   "cell_type": "code",
   "execution_count": 16,
   "metadata": {},
   "outputs": [],
   "source": [
    "sample = df.sample(100000, random_state=7)"
   ]
  },
  {
   "cell_type": "code",
   "execution_count": 17,
   "metadata": {},
   "outputs": [],
   "source": [
    "pmml_pipeline.verify(sample.drop(\"FARE\", axis=1))"
   ]
  },
  {
   "cell_type": "code",
   "execution_count": 18,
   "metadata": {},
   "outputs": [
    {
     "name": "stdout",
     "output_type": "stream",
     "text": [
      "Accuracy Score: 84.55%\n",
      "\n",
      "CPU times: user 745 ms, sys: 12.4 ms, total: 758 ms\n",
      "Wall time: 254 ms\n"
     ]
    }
   ],
   "source": [
    "%%time\n",
    "score = pmml_pipeline.score(x_test, y_test)\n",
    "print(f\"Accuracy Score: {score * 100:.2f}%\\n\")"
   ]
  },
  {
   "cell_type": "code",
   "execution_count": 19,
   "metadata": {},
   "outputs": [],
   "source": [
    "sklearn2pmml(pmml_pipeline, \"fare_model.pmml\", with_repr=True)"
   ]
  },
  {
   "cell_type": "markdown",
   "metadata": {},
   "source": [
    "### Clean up"
   ]
  },
  {
   "cell_type": "code",
   "execution_count": 174,
   "metadata": {},
   "outputs": [],
   "source": [
    "from os import remove"
   ]
  },
  {
   "cell_type": "code",
   "execution_count": 175,
   "metadata": {},
   "outputs": [],
   "source": [
    "remove(\"fare_model.pkl\")\n",
    "remove(\"fare_model.joblib\")"
   ]
  },
  {
   "cell_type": "markdown",
   "metadata": {},
   "source": [
    "-----\n",
    "\n",
    "### Author\n",
    "\n",
    "**👨‍💻 Maneesh Divana**\n",
    "\n",
    "**📧 [mdivana@hawk.iit.edu](mailto:mdivana@hawk.iit.edu) ◆ [maneeshd77@gmail.com](mailto:maneeshd77@gmail.com)**\n",
    "\n",
    "-----"
   ]
  }
 ],
 "metadata": {
  "kernelspec": {
   "display_name": "Python 3",
   "language": "python",
   "name": "python3"
  },
  "language_info": {
   "codemirror_mode": {
    "name": "ipython",
    "version": 3
   },
   "file_extension": ".py",
   "mimetype": "text/x-python",
   "name": "python",
   "nbconvert_exporter": "python",
   "pygments_lexer": "ipython3",
   "version": "3.7.5"
  }
 },
 "nbformat": 4,
 "nbformat_minor": 2
}
