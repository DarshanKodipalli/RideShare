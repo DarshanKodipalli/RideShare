{
 "cells": [
  {
   "cell_type": "code",
   "execution_count": 4,
   "metadata": {},
   "outputs": [],
   "source": [
    "from joblib import load"
   ]
  },
  {
   "cell_type": "code",
   "execution_count": 5,
   "metadata": {},
   "outputs": [],
   "source": [
    "model = load(\"fare_model.lzma\")"
   ]
  },
  {
   "cell_type": "code",
   "execution_count": 9,
   "metadata": {},
   "outputs": [],
   "source": [
    "user_data = [\n",
    "    [801.0, 3.2, 0, 1],\n",
    "    [801.0, 3.2, 1, 2],\n",
    "    [250.25, 1.2, 0, 1],\n",
    "    [347.41, 1.5, 1, 4],\n",
    "    [1800.12, 7.28, 0, 1]\n",
    "]"
   ]
  },
  {
   "cell_type": "code",
   "execution_count": 10,
   "metadata": {},
   "outputs": [
    {
     "name": "stdout",
     "output_type": "stream",
     "text": [
      "DURATION=801.00 mins, DISTANCE=3.20 miles, IS_POOLED=NO, TRIPS_IN_POOL=1\n",
      "Predicted Fare=$11.34\n",
      "\n",
      "DURATION=801.00 mins, DISTANCE=3.20 miles, IS_POOLED=YES, TRIPS_IN_POOL=2\n",
      "Predicted Fare=$7.43\n",
      "\n",
      "DURATION=250.25 mins, DISTANCE=1.20 miles, IS_POOLED=NO, TRIPS_IN_POOL=1\n",
      "Predicted Fare=$7.91\n",
      "\n",
      "DURATION=347.41 mins, DISTANCE=1.50 miles, IS_POOLED=YES, TRIPS_IN_POOL=4\n",
      "Predicted Fare=$3.90\n",
      "\n",
      "DURATION=1800.12 mins, DISTANCE=7.28 miles, IS_POOLED=NO, TRIPS_IN_POOL=1\n",
      "Predicted Fare=$19.82\n",
      "\n"
     ]
    }
   ],
   "source": [
    "for data in user_data:\n",
    "    is_pooled = \"YES\" if data[2] == 1 else \"NO\"\n",
    "    print(\n",
    "        f\"DURATION={data[0]:.2f} mins, \"\n",
    "        f\"DISTANCE={data[1]:.2f} miles, \"\n",
    "        f\"IS_POOLED={is_pooled}, \"\n",
    "        f\"TRIPS_IN_POOL={data[3]}\"\n",
    "    )\n",
    "    pred = model.predict([data])\n",
    "    print(f\"Predicted Fare=${pred[0]:.2f}\\n\")"
   ]
  }
 ],
 "metadata": {
  "kernelspec": {
   "display_name": "Python 3",
   "language": "python",
   "name": "python3"
  },
  "language_info": {
   "codemirror_mode": {
    "name": "ipython",
    "version": 3
   },
   "file_extension": ".py",
   "mimetype": "text/x-python",
   "name": "python",
   "nbconvert_exporter": "python",
   "pygments_lexer": "ipython3",
   "version": "3.7.5"
  }
 },
 "nbformat": 4,
 "nbformat_minor": 2
}
